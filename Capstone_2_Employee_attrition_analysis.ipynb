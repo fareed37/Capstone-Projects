{
  "nbformat": 4,
  "nbformat_minor": 0,
  "metadata": {
    "kernelspec": {
      "display_name": "Python 3",
      "language": "python",
      "name": "python3"
    },
    "language_info": {
      "codemirror_mode": {
        "name": "ipython",
        "version": 3
      },
      "file_extension": ".py",
      "mimetype": "text/x-python",
      "name": "python",
      "nbconvert_exporter": "python",
      "pygments_lexer": "ipython3",
      "version": "3.7.3"
    },
    "colab": {
      "name": "Capstone-2 Employee attrition analysis.ipynb",
      "provenance": [],
      "include_colab_link": true
    }
  },
  "cells": [
    {
      "cell_type": "markdown",
      "metadata": {
        "id": "view-in-github",
        "colab_type": "text"
      },
      "source": [
        "<a href=\"https://colab.research.google.com/github/fareed37/Capstone-Projects/blob/main/Capstone_2_Employee_attrition_analysis.ipynb\" target=\"_parent\"><img src=\"https://colab.research.google.com/assets/colab-badge.svg\" alt=\"Open In Colab\"/></a>"
      ]
    },
    {
      "cell_type": "code",
      "metadata": {
        "colab": {
          "base_uri": "https://localhost:8080/"
        },
        "id": "DSaaGqDAWXVA",
        "outputId": "c3e8ace7-105e-44d9-d9f8-c23dda5c3f23"
      },
      "source": [
        "!pip install mysql.connector"
      ],
      "execution_count": null,
      "outputs": [
        {
          "output_type": "stream",
          "text": [
            "Processing /root/.cache/pip/wheels/8c/83/a1/f8b6d4bb1bd6208bbde1608bbfa7557504bed9eaf2ecf8c175/mysql_connector-2.2.9-cp36-cp36m-linux_x86_64.whl\n",
            "Installing collected packages: mysql.connector\n",
            "Successfully installed mysql.connector\n"
          ],
          "name": "stdout"
        }
      ]
    },
    {
      "cell_type": "code",
      "metadata": {
        "colab": {
          "base_uri": "https://localhost:8080/"
        },
        "id": "YJ_3KQinu6Mf",
        "outputId": "519b7e19-6bb0-4a25-c4c7-7aa12d9dc3dc"
      },
      "source": [
        "from google.colab import drive\n",
        "drive.mount('/content/drive')"
      ],
      "execution_count": null,
      "outputs": [
        {
          "output_type": "stream",
          "text": [
            "Drive already mounted at /content/drive; to attempt to forcibly remount, call drive.mount(\"/content/drive\", force_remount=True).\n"
          ],
          "name": "stdout"
        }
      ]
    },
    {
      "cell_type": "markdown",
      "metadata": {
        "id": "8VpUNLRPWXVD"
      },
      "source": [
        "# 1. Reading and Exploring Data"
      ]
    },
    {
      "cell_type": "code",
      "metadata": {
        "id": "tU9Ad8yQWXVD"
      },
      "source": [
        "import pandas as pd\n",
        "import numpy as np\n",
        "import seaborn as sns\n",
        "import matplotlib.pyplot as plt\n",
        "import seaborn as sns\n",
        "\n",
        "import matplotlib.pyplot as plt\n",
        "from sklearn.naive_bayes import GaussianNB\n",
        "from sklearn.linear_model import LogisticRegression\n",
        "from sklearn.metrics import confusion_matrix,auc,roc_auc_score\n",
        "from sklearn.metrics import recall_score, precision_score, accuracy_score, f1_score"
      ],
      "execution_count": null,
      "outputs": []
    },
    {
      "cell_type": "code",
      "metadata": {
        "colab": {
          "base_uri": "https://localhost:8080/"
        },
        "id": "K-oI_9y6WXVD",
        "outputId": "64e8fc64-4a0d-4b85-c943-27d5f1989e9d"
      },
      "source": [
        "import mysql.connector\n",
        "\n",
        "mydb = mysql.connector.connect(\n",
        "  host=\"cpanel.insaid.co\",\n",
        "  user=\"student\",\n",
        "  password=\"student\",\n",
        "  database=\"Capstone2\"\n",
        ")\n",
        "\n",
        "tables = ['department_data', 'employee_details_data', 'employee_data']\n",
        "\n",
        "#mycursor = mydb.cursor()\n",
        "mycursor = mydb.cursor(buffered=True , dictionary=True)\n",
        "mycursor.execute(\"SELECT * FROM department_data\")\n",
        "department_data = pd.DataFrame(mycursor.fetchall())\n",
        "\n",
        "mycursor.execute(\"SELECT * FROM employee_data\")\n",
        "employee_data = pd.DataFrame(mycursor.fetchall())\n",
        "\n",
        "mycursor.execute(\"SELECT * FROM employee_details_data\")\n",
        "employee_details_data = pd.DataFrame(mycursor.fetchall())\n",
        "\n",
        "\n",
        "\n",
        "#for x in department_data:\n",
        "print(len(department_data))\n",
        "print(len(employee_data))\n",
        "print(len(employee_details_data))\n"
      ],
      "execution_count": null,
      "outputs": [
        {
          "output_type": "stream",
          "text": [
            "11\n",
            "14150\n",
            "14245\n"
          ],
          "name": "stdout"
        }
      ]
    },
    {
      "cell_type": "markdown",
      "metadata": {
        "id": "L2_2vViVWXVD"
      },
      "source": [
        "### Exploring department_data"
      ]
    },
    {
      "cell_type": "code",
      "metadata": {
        "colab": {
          "base_uri": "https://localhost:8080/",
          "height": 373
        },
        "id": "mZzBhgspWXVD",
        "outputId": "363819ba-cb5a-4b30-fe2d-02f9298ab1d5"
      },
      "source": [
        "department_data.head(15)"
      ],
      "execution_count": null,
      "outputs": [
        {
          "output_type": "execute_result",
          "data": {
            "text/html": [
              "<div>\n",
              "<style scoped>\n",
              "    .dataframe tbody tr th:only-of-type {\n",
              "        vertical-align: middle;\n",
              "    }\n",
              "\n",
              "    .dataframe tbody tr th {\n",
              "        vertical-align: top;\n",
              "    }\n",
              "\n",
              "    .dataframe thead th {\n",
              "        text-align: right;\n",
              "    }\n",
              "</style>\n",
              "<table border=\"1\" class=\"dataframe\">\n",
              "  <thead>\n",
              "    <tr style=\"text-align: right;\">\n",
              "      <th></th>\n",
              "      <th>dept_id</th>\n",
              "      <th>dept_name</th>\n",
              "      <th>dept_head</th>\n",
              "    </tr>\n",
              "  </thead>\n",
              "  <tbody>\n",
              "    <tr>\n",
              "      <th>0</th>\n",
              "      <td>D00-IT</td>\n",
              "      <td>IT</td>\n",
              "      <td>Henry Adey</td>\n",
              "    </tr>\n",
              "    <tr>\n",
              "      <th>1</th>\n",
              "      <td>D00-SS</td>\n",
              "      <td>Sales</td>\n",
              "      <td>Edward J Bayley</td>\n",
              "    </tr>\n",
              "    <tr>\n",
              "      <th>2</th>\n",
              "      <td>D00-TP</td>\n",
              "      <td>Temp</td>\n",
              "      <td>Micheal Zachrey</td>\n",
              "    </tr>\n",
              "    <tr>\n",
              "      <th>3</th>\n",
              "      <td>D00-ENG</td>\n",
              "      <td>Engineering</td>\n",
              "      <td>Sushant Raghunathan K</td>\n",
              "    </tr>\n",
              "    <tr>\n",
              "      <th>4</th>\n",
              "      <td>D00-SP</td>\n",
              "      <td>Support</td>\n",
              "      <td>Amelia Westray</td>\n",
              "    </tr>\n",
              "    <tr>\n",
              "      <th>5</th>\n",
              "      <td>D00-FN</td>\n",
              "      <td>Finance</td>\n",
              "      <td>Aanchal J</td>\n",
              "    </tr>\n",
              "    <tr>\n",
              "      <th>6</th>\n",
              "      <td>D00-PR</td>\n",
              "      <td>Procurement</td>\n",
              "      <td>Louie Viles</td>\n",
              "    </tr>\n",
              "    <tr>\n",
              "      <th>7</th>\n",
              "      <td>D00-AD</td>\n",
              "      <td>Admin</td>\n",
              "      <td>Evelyn Tolson</td>\n",
              "    </tr>\n",
              "    <tr>\n",
              "      <th>8</th>\n",
              "      <td>D00-MN</td>\n",
              "      <td>Management</td>\n",
              "      <td>Ellie Trafton</td>\n",
              "    </tr>\n",
              "    <tr>\n",
              "      <th>9</th>\n",
              "      <td>D00-MT</td>\n",
              "      <td>Marketing</td>\n",
              "      <td>Reuben Swann</td>\n",
              "    </tr>\n",
              "    <tr>\n",
              "      <th>10</th>\n",
              "      <td>D00-PD</td>\n",
              "      <td>Product</td>\n",
              "      <td>Darcy Staines</td>\n",
              "    </tr>\n",
              "  </tbody>\n",
              "</table>\n",
              "</div>"
            ],
            "text/plain": [
              "    dept_id    dept_name              dept_head\n",
              "0    D00-IT           IT             Henry Adey\n",
              "1    D00-SS        Sales        Edward J Bayley\n",
              "2    D00-TP         Temp        Micheal Zachrey\n",
              "3   D00-ENG  Engineering  Sushant Raghunathan K\n",
              "4    D00-SP      Support         Amelia Westray\n",
              "5    D00-FN      Finance              Aanchal J\n",
              "6    D00-PR  Procurement            Louie Viles\n",
              "7    D00-AD        Admin          Evelyn Tolson\n",
              "8    D00-MN   Management          Ellie Trafton\n",
              "9    D00-MT    Marketing           Reuben Swann\n",
              "10   D00-PD      Product          Darcy Staines"
            ]
          },
          "metadata": {
            "tags": []
          },
          "execution_count": 19
        }
      ]
    },
    {
      "cell_type": "code",
      "metadata": {
        "colab": {
          "base_uri": "https://localhost:8080/",
          "height": 166
        },
        "id": "JV4SsjO8WXVD",
        "outputId": "26e18107-997e-49ec-d7ee-02e218e87520"
      },
      "source": [
        "department_data.describe()"
      ],
      "execution_count": null,
      "outputs": [
        {
          "output_type": "execute_result",
          "data": {
            "text/html": [
              "<div>\n",
              "<style scoped>\n",
              "    .dataframe tbody tr th:only-of-type {\n",
              "        vertical-align: middle;\n",
              "    }\n",
              "\n",
              "    .dataframe tbody tr th {\n",
              "        vertical-align: top;\n",
              "    }\n",
              "\n",
              "    .dataframe thead th {\n",
              "        text-align: right;\n",
              "    }\n",
              "</style>\n",
              "<table border=\"1\" class=\"dataframe\">\n",
              "  <thead>\n",
              "    <tr style=\"text-align: right;\">\n",
              "      <th></th>\n",
              "      <th>dept_id</th>\n",
              "      <th>dept_name</th>\n",
              "      <th>dept_head</th>\n",
              "    </tr>\n",
              "  </thead>\n",
              "  <tbody>\n",
              "    <tr>\n",
              "      <th>count</th>\n",
              "      <td>11</td>\n",
              "      <td>11</td>\n",
              "      <td>11</td>\n",
              "    </tr>\n",
              "    <tr>\n",
              "      <th>unique</th>\n",
              "      <td>11</td>\n",
              "      <td>11</td>\n",
              "      <td>11</td>\n",
              "    </tr>\n",
              "    <tr>\n",
              "      <th>top</th>\n",
              "      <td>D00-PD</td>\n",
              "      <td>Finance</td>\n",
              "      <td>Ellie Trafton</td>\n",
              "    </tr>\n",
              "    <tr>\n",
              "      <th>freq</th>\n",
              "      <td>1</td>\n",
              "      <td>1</td>\n",
              "      <td>1</td>\n",
              "    </tr>\n",
              "  </tbody>\n",
              "</table>\n",
              "</div>"
            ],
            "text/plain": [
              "       dept_id dept_name      dept_head\n",
              "count       11        11             11\n",
              "unique      11        11             11\n",
              "top     D00-PD   Finance  Ellie Trafton\n",
              "freq         1         1              1"
            ]
          },
          "metadata": {
            "tags": []
          },
          "execution_count": 20
        }
      ]
    },
    {
      "cell_type": "code",
      "metadata": {
        "colab": {
          "base_uri": "https://localhost:8080/"
        },
        "id": "ZV3EDM_mWXVD",
        "outputId": "d8d0c5b6-f4fe-492c-e308-f18f959d743f"
      },
      "source": [
        "department_data.info()"
      ],
      "execution_count": null,
      "outputs": [
        {
          "output_type": "stream",
          "text": [
            "<class 'pandas.core.frame.DataFrame'>\n",
            "RangeIndex: 11 entries, 0 to 10\n",
            "Data columns (total 3 columns):\n",
            " #   Column     Non-Null Count  Dtype \n",
            "---  ------     --------------  ----- \n",
            " 0   dept_id    11 non-null     object\n",
            " 1   dept_name  11 non-null     object\n",
            " 2   dept_head  11 non-null     object\n",
            "dtypes: object(3)\n",
            "memory usage: 392.0+ bytes\n"
          ],
          "name": "stdout"
        }
      ]
    },
    {
      "cell_type": "markdown",
      "metadata": {
        "id": "g60CLArlWXVE"
      },
      "source": [
        "### Exploring employee_data"
      ]
    },
    {
      "cell_type": "code",
      "metadata": {
        "colab": {
          "base_uri": "https://localhost:8080/",
          "height": 343
        },
        "id": "mZ4BIZEqWXVE",
        "outputId": "cb62b081-de9a-4231-e7c9-285e4fdbd532"
      },
      "source": [
        "employee_data.head(10)"
      ],
      "execution_count": null,
      "outputs": [
        {
          "output_type": "execute_result",
          "data": {
            "text/html": [
              "<div>\n",
              "<style scoped>\n",
              "    .dataframe tbody tr th:only-of-type {\n",
              "        vertical-align: middle;\n",
              "    }\n",
              "\n",
              "    .dataframe tbody tr th {\n",
              "        vertical-align: top;\n",
              "    }\n",
              "\n",
              "    .dataframe thead th {\n",
              "        text-align: right;\n",
              "    }\n",
              "</style>\n",
              "<table border=\"1\" class=\"dataframe\">\n",
              "  <thead>\n",
              "    <tr style=\"text-align: right;\">\n",
              "      <th></th>\n",
              "      <th>avg_monthly_hrs</th>\n",
              "      <th>department</th>\n",
              "      <th>filed_complaint</th>\n",
              "      <th>last_evaluation</th>\n",
              "      <th>n_projects</th>\n",
              "      <th>recently_promoted</th>\n",
              "      <th>salary</th>\n",
              "      <th>satisfaction</th>\n",
              "      <th>status</th>\n",
              "      <th>tenure</th>\n",
              "      <th>employee_id</th>\n",
              "    </tr>\n",
              "  </thead>\n",
              "  <tbody>\n",
              "    <tr>\n",
              "      <th>0</th>\n",
              "      <td>246.00</td>\n",
              "      <td>None</td>\n",
              "      <td>None</td>\n",
              "      <td>0.866838</td>\n",
              "      <td>6</td>\n",
              "      <td>NaN</td>\n",
              "      <td>medium</td>\n",
              "      <td>0.134415</td>\n",
              "      <td>Left</td>\n",
              "      <td>4.00</td>\n",
              "      <td>124467</td>\n",
              "    </tr>\n",
              "    <tr>\n",
              "      <th>1</th>\n",
              "      <td>134.00</td>\n",
              "      <td>None</td>\n",
              "      <td>None</td>\n",
              "      <td>0.555718</td>\n",
              "      <td>2</td>\n",
              "      <td>NaN</td>\n",
              "      <td>low</td>\n",
              "      <td>0.511041</td>\n",
              "      <td>Left</td>\n",
              "      <td>3.00</td>\n",
              "      <td>112210</td>\n",
              "    </tr>\n",
              "    <tr>\n",
              "      <th>2</th>\n",
              "      <td>156.00</td>\n",
              "      <td>D00-SS</td>\n",
              "      <td>1.00</td>\n",
              "      <td>0.474082</td>\n",
              "      <td>2</td>\n",
              "      <td>NaN</td>\n",
              "      <td>medium</td>\n",
              "      <td>0.405101</td>\n",
              "      <td>Left</td>\n",
              "      <td>3.00</td>\n",
              "      <td>126150</td>\n",
              "    </tr>\n",
              "    <tr>\n",
              "      <th>3</th>\n",
              "      <td>256.00</td>\n",
              "      <td>D00-SP</td>\n",
              "      <td>None</td>\n",
              "      <td>0.961360</td>\n",
              "      <td>6</td>\n",
              "      <td>NaN</td>\n",
              "      <td>low</td>\n",
              "      <td>0.152974</td>\n",
              "      <td>Left</td>\n",
              "      <td>4.00</td>\n",
              "      <td>125346</td>\n",
              "    </tr>\n",
              "    <tr>\n",
              "      <th>4</th>\n",
              "      <td>146.00</td>\n",
              "      <td>D00-SS</td>\n",
              "      <td>None</td>\n",
              "      <td>0.507349</td>\n",
              "      <td>2</td>\n",
              "      <td>NaN</td>\n",
              "      <td>medium</td>\n",
              "      <td>0.434845</td>\n",
              "      <td>Left</td>\n",
              "      <td>3.00</td>\n",
              "      <td>113707</td>\n",
              "    </tr>\n",
              "    <tr>\n",
              "      <th>5</th>\n",
              "      <td>135.00</td>\n",
              "      <td>D00-MT</td>\n",
              "      <td>None</td>\n",
              "      <td>0.482184</td>\n",
              "      <td>2</td>\n",
              "      <td>NaN</td>\n",
              "      <td>low</td>\n",
              "      <td>0.381545</td>\n",
              "      <td>Left</td>\n",
              "      <td>3.00</td>\n",
              "      <td>121685</td>\n",
              "    </tr>\n",
              "    <tr>\n",
              "      <th>6</th>\n",
              "      <td>270.00</td>\n",
              "      <td>D00-PD</td>\n",
              "      <td>None</td>\n",
              "      <td>0.867087</td>\n",
              "      <td>6</td>\n",
              "      <td>NaN</td>\n",
              "      <td>low</td>\n",
              "      <td>0.172575</td>\n",
              "      <td>Left</td>\n",
              "      <td>4.00</td>\n",
              "      <td>119912</td>\n",
              "    </tr>\n",
              "    <tr>\n",
              "      <th>7</th>\n",
              "      <td>244.00</td>\n",
              "      <td>D00-IT</td>\n",
              "      <td>None</td>\n",
              "      <td>0.926197</td>\n",
              "      <td>6</td>\n",
              "      <td>NaN</td>\n",
              "      <td>medium</td>\n",
              "      <td>0.061868</td>\n",
              "      <td>Left</td>\n",
              "      <td>5.00</td>\n",
              "      <td>112868</td>\n",
              "    </tr>\n",
              "    <tr>\n",
              "      <th>8</th>\n",
              "      <td>289.00</td>\n",
              "      <td>D00-IT</td>\n",
              "      <td>None</td>\n",
              "      <td>0.929858</td>\n",
              "      <td>7</td>\n",
              "      <td>NaN</td>\n",
              "      <td>low</td>\n",
              "      <td>0.161744</td>\n",
              "      <td>Left</td>\n",
              "      <td>4.00</td>\n",
              "      <td>122314</td>\n",
              "    </tr>\n",
              "    <tr>\n",
              "      <th>9</th>\n",
              "      <td>281.00</td>\n",
              "      <td>D00-SS</td>\n",
              "      <td>None</td>\n",
              "      <td>0.907965</td>\n",
              "      <td>6</td>\n",
              "      <td>NaN</td>\n",
              "      <td>medium</td>\n",
              "      <td>0.105749</td>\n",
              "      <td>Left</td>\n",
              "      <td>4.00</td>\n",
              "      <td>122394</td>\n",
              "    </tr>\n",
              "  </tbody>\n",
              "</table>\n",
              "</div>"
            ],
            "text/plain": [
              "  avg_monthly_hrs department filed_complaint  ...  status  tenure  employee_id\n",
              "0          246.00       None            None  ...    Left    4.00       124467\n",
              "1          134.00       None            None  ...    Left    3.00       112210\n",
              "2          156.00     D00-SS            1.00  ...    Left    3.00       126150\n",
              "3          256.00     D00-SP            None  ...    Left    4.00       125346\n",
              "4          146.00     D00-SS            None  ...    Left    3.00       113707\n",
              "5          135.00     D00-MT            None  ...    Left    3.00       121685\n",
              "6          270.00     D00-PD            None  ...    Left    4.00       119912\n",
              "7          244.00     D00-IT            None  ...    Left    5.00       112868\n",
              "8          289.00     D00-IT            None  ...    Left    4.00       122314\n",
              "9          281.00     D00-SS            None  ...    Left    4.00       122394\n",
              "\n",
              "[10 rows x 11 columns]"
            ]
          },
          "metadata": {
            "tags": []
          },
          "execution_count": 22
        }
      ]
    },
    {
      "cell_type": "code",
      "metadata": {
        "colab": {
          "base_uri": "https://localhost:8080/",
          "height": 284
        },
        "id": "LfSuwvXQWXVE",
        "outputId": "104230c8-a432-4f33-9767-321569d02ab9"
      },
      "source": [
        "employee_data.describe()"
      ],
      "execution_count": null,
      "outputs": [
        {
          "output_type": "execute_result",
          "data": {
            "text/html": [
              "<div>\n",
              "<style scoped>\n",
              "    .dataframe tbody tr th:only-of-type {\n",
              "        vertical-align: middle;\n",
              "    }\n",
              "\n",
              "    .dataframe tbody tr th {\n",
              "        vertical-align: top;\n",
              "    }\n",
              "\n",
              "    .dataframe thead th {\n",
              "        text-align: right;\n",
              "    }\n",
              "</style>\n",
              "<table border=\"1\" class=\"dataframe\">\n",
              "  <thead>\n",
              "    <tr style=\"text-align: right;\">\n",
              "      <th></th>\n",
              "      <th>last_evaluation</th>\n",
              "      <th>n_projects</th>\n",
              "      <th>recently_promoted</th>\n",
              "      <th>satisfaction</th>\n",
              "      <th>employee_id</th>\n",
              "    </tr>\n",
              "  </thead>\n",
              "  <tbody>\n",
              "    <tr>\n",
              "      <th>count</th>\n",
              "      <td>12663.000000</td>\n",
              "      <td>14150.000000</td>\n",
              "      <td>297.0</td>\n",
              "      <td>14000.000000</td>\n",
              "      <td>14150.000000</td>\n",
              "    </tr>\n",
              "    <tr>\n",
              "      <th>mean</th>\n",
              "      <td>0.718399</td>\n",
              "      <td>3.778304</td>\n",
              "      <td>1.0</td>\n",
              "      <td>0.621212</td>\n",
              "      <td>112080.750247</td>\n",
              "    </tr>\n",
              "    <tr>\n",
              "      <th>std</th>\n",
              "      <td>0.173108</td>\n",
              "      <td>1.250162</td>\n",
              "      <td>0.0</td>\n",
              "      <td>0.250482</td>\n",
              "      <td>8748.202856</td>\n",
              "    </tr>\n",
              "    <tr>\n",
              "      <th>min</th>\n",
              "      <td>0.316175</td>\n",
              "      <td>1.000000</td>\n",
              "      <td>1.0</td>\n",
              "      <td>0.040058</td>\n",
              "      <td>0.000000</td>\n",
              "    </tr>\n",
              "    <tr>\n",
              "      <th>25%</th>\n",
              "      <td>0.563711</td>\n",
              "      <td>3.000000</td>\n",
              "      <td>1.0</td>\n",
              "      <td>0.450356</td>\n",
              "      <td>105772.500000</td>\n",
              "    </tr>\n",
              "    <tr>\n",
              "      <th>50%</th>\n",
              "      <td>0.724731</td>\n",
              "      <td>4.000000</td>\n",
              "      <td>1.0</td>\n",
              "      <td>0.652394</td>\n",
              "      <td>111291.500000</td>\n",
              "    </tr>\n",
              "    <tr>\n",
              "      <th>75%</th>\n",
              "      <td>0.871409</td>\n",
              "      <td>5.000000</td>\n",
              "      <td>1.0</td>\n",
              "      <td>0.824925</td>\n",
              "      <td>116650.750000</td>\n",
              "    </tr>\n",
              "    <tr>\n",
              "      <th>max</th>\n",
              "      <td>1.000000</td>\n",
              "      <td>7.000000</td>\n",
              "      <td>1.0</td>\n",
              "      <td>1.000000</td>\n",
              "      <td>148988.000000</td>\n",
              "    </tr>\n",
              "  </tbody>\n",
              "</table>\n",
              "</div>"
            ],
            "text/plain": [
              "       last_evaluation    n_projects  ...  satisfaction    employee_id\n",
              "count     12663.000000  14150.000000  ...  14000.000000   14150.000000\n",
              "mean          0.718399      3.778304  ...      0.621212  112080.750247\n",
              "std           0.173108      1.250162  ...      0.250482    8748.202856\n",
              "min           0.316175      1.000000  ...      0.040058       0.000000\n",
              "25%           0.563711      3.000000  ...      0.450356  105772.500000\n",
              "50%           0.724731      4.000000  ...      0.652394  111291.500000\n",
              "75%           0.871409      5.000000  ...      0.824925  116650.750000\n",
              "max           1.000000      7.000000  ...      1.000000  148988.000000\n",
              "\n",
              "[8 rows x 5 columns]"
            ]
          },
          "metadata": {
            "tags": []
          },
          "execution_count": 23
        }
      ]
    },
    {
      "cell_type": "code",
      "metadata": {
        "colab": {
          "base_uri": "https://localhost:8080/"
        },
        "id": "LEAjHg8zWXVE",
        "outputId": "891a171e-89f4-4d25-a9fe-cfb1e1c88c79"
      },
      "source": [
        "employee_data.info()"
      ],
      "execution_count": null,
      "outputs": [
        {
          "output_type": "stream",
          "text": [
            "<class 'pandas.core.frame.DataFrame'>\n",
            "RangeIndex: 14150 entries, 0 to 14149\n",
            "Data columns (total 11 columns):\n",
            " #   Column             Non-Null Count  Dtype  \n",
            "---  ------             --------------  -----  \n",
            " 0   avg_monthly_hrs    14150 non-null  object \n",
            " 1   department         13443 non-null  object \n",
            " 2   filed_complaint    2046 non-null   object \n",
            " 3   last_evaluation    12663 non-null  float64\n",
            " 4   n_projects         14150 non-null  int64  \n",
            " 5   recently_promoted  297 non-null    float64\n",
            " 6   salary             14150 non-null  object \n",
            " 7   satisfaction       14000 non-null  float64\n",
            " 8   status             14150 non-null  object \n",
            " 9   tenure             14000 non-null  object \n",
            " 10  employee_id        14150 non-null  int64  \n",
            "dtypes: float64(3), int64(2), object(6)\n",
            "memory usage: 1.2+ MB\n"
          ],
          "name": "stdout"
        }
      ]
    },
    {
      "cell_type": "markdown",
      "metadata": {
        "id": "yUz-k0xCWXVE"
      },
      "source": [
        "**Note** : employee_data table has missing data in the below columns:<br>\n",
        "a. tenure (150 records) <br>\n",
        "b. satisfaction(150 records) <br>\n",
        "c. last_evaluation(1487 records) <br>\n",
        "d. department(707 records) <br>\n",
        "e. filed_commplaint(12104) <br>\n",
        "f. recently_promoted(13853)<br>\n",
        "\n",
        "Missing data has to be handled."
      ]
    },
    {
      "cell_type": "code",
      "metadata": {
        "colab": {
          "base_uri": "https://localhost:8080/"
        },
        "id": "GZWckVpBWXVE",
        "outputId": "864c6b06-0ec8-441e-d0e7-0da8f8361ef4"
      },
      "source": [
        "employee_data.employee_id.nunique()"
      ],
      "execution_count": null,
      "outputs": [
        {
          "output_type": "execute_result",
          "data": {
            "text/plain": [
              "14117"
            ]
          },
          "metadata": {
            "tags": []
          },
          "execution_count": 25
        }
      ]
    },
    {
      "cell_type": "markdown",
      "metadata": {
        "id": "-fQtU1iDWXVF"
      },
      "source": [
        "**Note**: employee_data has only 14117 unique employee ids our of 14150 records. Looks like there are 33 duplicate records"
      ]
    },
    {
      "cell_type": "code",
      "metadata": {
        "colab": {
          "base_uri": "https://localhost:8080/"
        },
        "id": "7EPIkLsrWXVF",
        "outputId": "fd50c8c8-83a7-4a16-92e3-8266f1b1e181"
      },
      "source": [
        "employee_data.employee_id.duplicated().sum()"
      ],
      "execution_count": null,
      "outputs": [
        {
          "output_type": "execute_result",
          "data": {
            "text/plain": [
              "33"
            ]
          },
          "metadata": {
            "tags": []
          },
          "execution_count": 26
        }
      ]
    },
    {
      "cell_type": "code",
      "metadata": {
        "colab": {
          "base_uri": "https://localhost:8080/",
          "height": 402
        },
        "id": "CorNZ0E-WXVF",
        "outputId": "96339932-00a4-4e00-b8dd-002b15b38b18"
      },
      "source": [
        "employee_data[employee_data.employee_id.duplicated(keep=False)]"
      ],
      "execution_count": null,
      "outputs": [
        {
          "output_type": "execute_result",
          "data": {
            "text/html": [
              "<div>\n",
              "<style scoped>\n",
              "    .dataframe tbody tr th:only-of-type {\n",
              "        vertical-align: middle;\n",
              "    }\n",
              "\n",
              "    .dataframe tbody tr th {\n",
              "        vertical-align: top;\n",
              "    }\n",
              "\n",
              "    .dataframe thead th {\n",
              "        text-align: right;\n",
              "    }\n",
              "</style>\n",
              "<table border=\"1\" class=\"dataframe\">\n",
              "  <thead>\n",
              "    <tr style=\"text-align: right;\">\n",
              "      <th></th>\n",
              "      <th>avg_monthly_hrs</th>\n",
              "      <th>department</th>\n",
              "      <th>filed_complaint</th>\n",
              "      <th>last_evaluation</th>\n",
              "      <th>n_projects</th>\n",
              "      <th>recently_promoted</th>\n",
              "      <th>salary</th>\n",
              "      <th>satisfaction</th>\n",
              "      <th>status</th>\n",
              "      <th>tenure</th>\n",
              "      <th>employee_id</th>\n",
              "    </tr>\n",
              "  </thead>\n",
              "  <tbody>\n",
              "    <tr>\n",
              "      <th>34</th>\n",
              "      <td>284.00</td>\n",
              "      <td>D00-SS</td>\n",
              "      <td>None</td>\n",
              "      <td>0.852702</td>\n",
              "      <td>6</td>\n",
              "      <td>NaN</td>\n",
              "      <td>low</td>\n",
              "      <td>0.069168</td>\n",
              "      <td>Left</td>\n",
              "      <td>4.00</td>\n",
              "      <td>0</td>\n",
              "    </tr>\n",
              "    <tr>\n",
              "      <th>304</th>\n",
              "      <td>264.00</td>\n",
              "      <td>D00-ENG</td>\n",
              "      <td>None</td>\n",
              "      <td>0.774554</td>\n",
              "      <td>6</td>\n",
              "      <td>NaN</td>\n",
              "      <td>low</td>\n",
              "      <td>0.110974</td>\n",
              "      <td>Left</td>\n",
              "      <td>4.00</td>\n",
              "      <td>0</td>\n",
              "    </tr>\n",
              "    <tr>\n",
              "      <th>374</th>\n",
              "      <td>307.00</td>\n",
              "      <td>D00-IT</td>\n",
              "      <td>None</td>\n",
              "      <td>0.905708</td>\n",
              "      <td>7</td>\n",
              "      <td>NaN</td>\n",
              "      <td>low</td>\n",
              "      <td>0.125275</td>\n",
              "      <td>Left</td>\n",
              "      <td>4.00</td>\n",
              "      <td>111323</td>\n",
              "    </tr>\n",
              "    <tr>\n",
              "      <th>1234</th>\n",
              "      <td>129.00</td>\n",
              "      <td>D00-SP</td>\n",
              "      <td>None</td>\n",
              "      <td>0.402660</td>\n",
              "      <td>2</td>\n",
              "      <td>NaN</td>\n",
              "      <td>medium</td>\n",
              "      <td>0.437359</td>\n",
              "      <td>Left</td>\n",
              "      <td>3.00</td>\n",
              "      <td>0</td>\n",
              "    </tr>\n",
              "    <tr>\n",
              "      <th>1438</th>\n",
              "      <td>282.00</td>\n",
              "      <td>D00-SS</td>\n",
              "      <td>None</td>\n",
              "      <td>0.875427</td>\n",
              "      <td>6</td>\n",
              "      <td>NaN</td>\n",
              "      <td>low</td>\n",
              "      <td>0.065908</td>\n",
              "      <td>Left</td>\n",
              "      <td>4.00</td>\n",
              "      <td>116247</td>\n",
              "    </tr>\n",
              "    <tr>\n",
              "      <th>...</th>\n",
              "      <td>...</td>\n",
              "      <td>...</td>\n",
              "      <td>...</td>\n",
              "      <td>...</td>\n",
              "      <td>...</td>\n",
              "      <td>...</td>\n",
              "      <td>...</td>\n",
              "      <td>...</td>\n",
              "      <td>...</td>\n",
              "      <td>...</td>\n",
              "      <td>...</td>\n",
              "    </tr>\n",
              "    <tr>\n",
              "      <th>14145</th>\n",
              "      <td>245.00</td>\n",
              "      <td>D00-SS</td>\n",
              "      <td>None</td>\n",
              "      <td>0.850785</td>\n",
              "      <td>6</td>\n",
              "      <td>NaN</td>\n",
              "      <td>medium</td>\n",
              "      <td>0.225084</td>\n",
              "      <td>Employed</td>\n",
              "      <td>5.00</td>\n",
              "      <td>101809</td>\n",
              "    </tr>\n",
              "    <tr>\n",
              "      <th>14146</th>\n",
              "      <td>192.00</td>\n",
              "      <td>D00-SS</td>\n",
              "      <td>None</td>\n",
              "      <td>0.951901</td>\n",
              "      <td>3</td>\n",
              "      <td>NaN</td>\n",
              "      <td>medium</td>\n",
              "      <td>0.539834</td>\n",
              "      <td>Employed</td>\n",
              "      <td>3.00</td>\n",
              "      <td>116153</td>\n",
              "    </tr>\n",
              "    <tr>\n",
              "      <th>14147</th>\n",
              "      <td>175.00</td>\n",
              "      <td>D00-MN</td>\n",
              "      <td>None</td>\n",
              "      <td>0.854538</td>\n",
              "      <td>4</td>\n",
              "      <td>NaN</td>\n",
              "      <td>medium</td>\n",
              "      <td>0.934465</td>\n",
              "      <td>Employed</td>\n",
              "      <td>3.00</td>\n",
              "      <td>119780</td>\n",
              "    </tr>\n",
              "    <tr>\n",
              "      <th>14148</th>\n",
              "      <td>268.00</td>\n",
              "      <td>D00-MT</td>\n",
              "      <td>None</td>\n",
              "      <td>0.900887</td>\n",
              "      <td>5</td>\n",
              "      <td>NaN</td>\n",
              "      <td>medium</td>\n",
              "      <td>0.906613</td>\n",
              "      <td>Left</td>\n",
              "      <td>5.00</td>\n",
              "      <td>115325</td>\n",
              "    </tr>\n",
              "    <tr>\n",
              "      <th>14149</th>\n",
              "      <td>268.00</td>\n",
              "      <td>D00-IT</td>\n",
              "      <td>1.00</td>\n",
              "      <td>0.897098</td>\n",
              "      <td>2</td>\n",
              "      <td>NaN</td>\n",
              "      <td>low</td>\n",
              "      <td>0.459371</td>\n",
              "      <td>Employed</td>\n",
              "      <td>4.00</td>\n",
              "      <td>112312</td>\n",
              "    </tr>\n",
              "  </tbody>\n",
              "</table>\n",
              "<p>63 rows × 11 columns</p>\n",
              "</div>"
            ],
            "text/plain": [
              "      avg_monthly_hrs department filed_complaint  ...    status  tenure  employee_id\n",
              "34             284.00     D00-SS            None  ...      Left    4.00            0\n",
              "304            264.00    D00-ENG            None  ...      Left    4.00            0\n",
              "374            307.00     D00-IT            None  ...      Left    4.00       111323\n",
              "1234           129.00     D00-SP            None  ...      Left    3.00            0\n",
              "1438           282.00     D00-SS            None  ...      Left    4.00       116247\n",
              "...               ...        ...             ...  ...       ...     ...          ...\n",
              "14145          245.00     D00-SS            None  ...  Employed    5.00       101809\n",
              "14146          192.00     D00-SS            None  ...  Employed    3.00       116153\n",
              "14147          175.00     D00-MN            None  ...  Employed    3.00       119780\n",
              "14148          268.00     D00-MT            None  ...      Left    5.00       115325\n",
              "14149          268.00     D00-IT            1.00  ...  Employed    4.00       112312\n",
              "\n",
              "[63 rows x 11 columns]"
            ]
          },
          "metadata": {
            "tags": []
          },
          "execution_count": 27
        }
      ]
    },
    {
      "cell_type": "markdown",
      "metadata": {
        "id": "B1WZTCcMWXVF"
      },
      "source": [
        "**Note** : There are 33 repeated employee ids. Also, we noted that there are 4 employee_ids with value 0. Duplicate records needs to be dropped and employee_ids with value 0 has to be deleted."
      ]
    },
    {
      "cell_type": "code",
      "metadata": {
        "colab": {
          "base_uri": "https://localhost:8080/"
        },
        "id": "-GoTd6i8WXVF",
        "outputId": "365f9409-a3f6-4b06-db81-23b8b2ff2230"
      },
      "source": [
        "employee_data.nunique()"
      ],
      "execution_count": null,
      "outputs": [
        {
          "output_type": "execute_result",
          "data": {
            "text/plain": [
              "avg_monthly_hrs        249\n",
              "department              12\n",
              "filed_complaint          1\n",
              "last_evaluation      12188\n",
              "n_projects               7\n",
              "recently_promoted        1\n",
              "salary                   3\n",
              "satisfaction         13497\n",
              "status                   2\n",
              "tenure                   8\n",
              "employee_id          14117\n",
              "dtype: int64"
            ]
          },
          "metadata": {
            "tags": []
          },
          "execution_count": 28
        }
      ]
    },
    {
      "cell_type": "code",
      "metadata": {
        "colab": {
          "base_uri": "https://localhost:8080/"
        },
        "id": "KW0v5MdvWXVF",
        "outputId": "d61568b4-f8b7-42c4-fffa-62feec4f9d9c"
      },
      "source": [
        "employee_data.department.unique()"
      ],
      "execution_count": null,
      "outputs": [
        {
          "output_type": "execute_result",
          "data": {
            "text/plain": [
              "array([None, 'D00-SS', 'D00-SP', 'D00-MT', 'D00-PD', 'D00-IT', 'D00-AD',\n",
              "       'D00-MN', 'D00-ENG', 'D00-PR', 'D00-TP', 'D00-FN', '-IT'],\n",
              "      dtype=object)"
            ]
          },
          "metadata": {
            "tags": []
          },
          "execution_count": 29
        }
      ]
    },
    {
      "cell_type": "markdown",
      "metadata": {
        "id": "GfTotZX0WXVF"
      },
      "source": [
        "**Note**: There are 12 departments in employee_data where as in department_data there are only 11 departments. emplyee_data has an additional department: '-IT'. Looks like this is an error while entering the data. The department should have been 'D00-IT'"
      ]
    },
    {
      "cell_type": "code",
      "metadata": {
        "colab": {
          "base_uri": "https://localhost:8080/",
          "height": 195
        },
        "id": "LoN42Rn9WXVF",
        "outputId": "5b4ff6da-b916-460d-a908-6ae88f33f6f8"
      },
      "source": [
        "employee_data[employee_data['employee_id'] == 0]"
      ],
      "execution_count": null,
      "outputs": [
        {
          "output_type": "execute_result",
          "data": {
            "text/html": [
              "<div>\n",
              "<style scoped>\n",
              "    .dataframe tbody tr th:only-of-type {\n",
              "        vertical-align: middle;\n",
              "    }\n",
              "\n",
              "    .dataframe tbody tr th {\n",
              "        vertical-align: top;\n",
              "    }\n",
              "\n",
              "    .dataframe thead th {\n",
              "        text-align: right;\n",
              "    }\n",
              "</style>\n",
              "<table border=\"1\" class=\"dataframe\">\n",
              "  <thead>\n",
              "    <tr style=\"text-align: right;\">\n",
              "      <th></th>\n",
              "      <th>avg_monthly_hrs</th>\n",
              "      <th>department</th>\n",
              "      <th>filed_complaint</th>\n",
              "      <th>last_evaluation</th>\n",
              "      <th>n_projects</th>\n",
              "      <th>recently_promoted</th>\n",
              "      <th>salary</th>\n",
              "      <th>satisfaction</th>\n",
              "      <th>status</th>\n",
              "      <th>tenure</th>\n",
              "      <th>employee_id</th>\n",
              "    </tr>\n",
              "  </thead>\n",
              "  <tbody>\n",
              "    <tr>\n",
              "      <th>34</th>\n",
              "      <td>284.00</td>\n",
              "      <td>D00-SS</td>\n",
              "      <td>None</td>\n",
              "      <td>0.852702</td>\n",
              "      <td>6</td>\n",
              "      <td>NaN</td>\n",
              "      <td>low</td>\n",
              "      <td>0.069168</td>\n",
              "      <td>Left</td>\n",
              "      <td>4.00</td>\n",
              "      <td>0</td>\n",
              "    </tr>\n",
              "    <tr>\n",
              "      <th>304</th>\n",
              "      <td>264.00</td>\n",
              "      <td>D00-ENG</td>\n",
              "      <td>None</td>\n",
              "      <td>0.774554</td>\n",
              "      <td>6</td>\n",
              "      <td>NaN</td>\n",
              "      <td>low</td>\n",
              "      <td>0.110974</td>\n",
              "      <td>Left</td>\n",
              "      <td>4.00</td>\n",
              "      <td>0</td>\n",
              "    </tr>\n",
              "    <tr>\n",
              "      <th>1234</th>\n",
              "      <td>129.00</td>\n",
              "      <td>D00-SP</td>\n",
              "      <td>None</td>\n",
              "      <td>0.402660</td>\n",
              "      <td>2</td>\n",
              "      <td>NaN</td>\n",
              "      <td>medium</td>\n",
              "      <td>0.437359</td>\n",
              "      <td>Left</td>\n",
              "      <td>3.00</td>\n",
              "      <td>0</td>\n",
              "    </tr>\n",
              "    <tr>\n",
              "      <th>11304</th>\n",
              "      <td>167.00</td>\n",
              "      <td>None</td>\n",
              "      <td>None</td>\n",
              "      <td>0.880053</td>\n",
              "      <td>5</td>\n",
              "      <td>NaN</td>\n",
              "      <td>low</td>\n",
              "      <td>0.682140</td>\n",
              "      <td>Employed</td>\n",
              "      <td>3.00</td>\n",
              "      <td>0</td>\n",
              "    </tr>\n",
              "    <tr>\n",
              "      <th>12304</th>\n",
              "      <td>259.00</td>\n",
              "      <td>D00-ENG</td>\n",
              "      <td>None</td>\n",
              "      <td>0.505883</td>\n",
              "      <td>5</td>\n",
              "      <td>NaN</td>\n",
              "      <td>low</td>\n",
              "      <td>0.631046</td>\n",
              "      <td>Employed</td>\n",
              "      <td>4.00</td>\n",
              "      <td>0</td>\n",
              "    </tr>\n",
              "  </tbody>\n",
              "</table>\n",
              "</div>"
            ],
            "text/plain": [
              "      avg_monthly_hrs department filed_complaint  ...    status  tenure  employee_id\n",
              "34             284.00     D00-SS            None  ...      Left    4.00            0\n",
              "304            264.00    D00-ENG            None  ...      Left    4.00            0\n",
              "1234           129.00     D00-SP            None  ...      Left    3.00            0\n",
              "11304          167.00       None            None  ...  Employed    3.00            0\n",
              "12304          259.00    D00-ENG            None  ...  Employed    4.00            0\n",
              "\n",
              "[5 rows x 11 columns]"
            ]
          },
          "metadata": {
            "tags": []
          },
          "execution_count": 30
        }
      ]
    },
    {
      "cell_type": "code",
      "metadata": {
        "colab": {
          "base_uri": "https://localhost:8080/"
        },
        "id": "CsVcE_GiWXVF",
        "outputId": "853c30e0-feed-426c-a3aa-588202aff8f5"
      },
      "source": [
        "employee_data.status.value_counts()"
      ],
      "execution_count": null,
      "outputs": [
        {
          "output_type": "execute_result",
          "data": {
            "text/plain": [
              "Employed    10784\n",
              "Left         3366\n",
              "Name: status, dtype: int64"
            ]
          },
          "metadata": {
            "tags": []
          },
          "execution_count": 31
        }
      ]
    },
    {
      "cell_type": "markdown",
      "metadata": {
        "id": "9vhZ-9lBWXVF"
      },
      "source": [
        "#### Exploring employee_details_data"
      ]
    },
    {
      "cell_type": "code",
      "metadata": {
        "colab": {
          "base_uri": "https://localhost:8080/"
        },
        "id": "mZyG9TzoWXVF",
        "outputId": "6427cb40-97e0-461d-8ac7-4c4a12b61086"
      },
      "source": [
        "employee_details_data.head()"
      ],
      "execution_count": null,
      "outputs": [
        {
          "output_type": "execute_result",
          "data": {
            "text/html": [
              "<div>\n",
              "<style scoped>\n",
              "    .dataframe tbody tr th:only-of-type {\n",
              "        vertical-align: middle;\n",
              "    }\n",
              "\n",
              "    .dataframe tbody tr th {\n",
              "        vertical-align: top;\n",
              "    }\n",
              "\n",
              "    .dataframe thead th {\n",
              "        text-align: right;\n",
              "    }\n",
              "</style>\n",
              "<table border=\"1\" class=\"dataframe\">\n",
              "  <thead>\n",
              "    <tr style=\"text-align: right;\">\n",
              "      <th></th>\n",
              "      <th>employee_id</th>\n",
              "      <th>age</th>\n",
              "      <th>gender</th>\n",
              "      <th>marital_status</th>\n",
              "    </tr>\n",
              "  </thead>\n",
              "  <tbody>\n",
              "    <tr>\n",
              "      <th>0</th>\n",
              "      <td>113558</td>\n",
              "      <td>43</td>\n",
              "      <td>Male</td>\n",
              "      <td>Married</td>\n",
              "    </tr>\n",
              "    <tr>\n",
              "      <th>1</th>\n",
              "      <td>112256</td>\n",
              "      <td>24</td>\n",
              "      <td>Female</td>\n",
              "      <td>Unmarried</td>\n",
              "    </tr>\n",
              "    <tr>\n",
              "      <th>2</th>\n",
              "      <td>112586</td>\n",
              "      <td>22</td>\n",
              "      <td>Female</td>\n",
              "      <td>Unmarried</td>\n",
              "    </tr>\n",
              "    <tr>\n",
              "      <th>3</th>\n",
              "      <td>108071</td>\n",
              "      <td>36</td>\n",
              "      <td>Male</td>\n",
              "      <td>Married</td>\n",
              "    </tr>\n",
              "    <tr>\n",
              "      <th>4</th>\n",
              "      <td>116915</td>\n",
              "      <td>38</td>\n",
              "      <td>Male</td>\n",
              "      <td>Married</td>\n",
              "    </tr>\n",
              "  </tbody>\n",
              "</table>\n",
              "</div>"
            ],
            "text/plain": [
              "   employee_id  age  gender marital_status\n",
              "0       113558   43    Male        Married\n",
              "1       112256   24  Female      Unmarried\n",
              "2       112586   22  Female      Unmarried\n",
              "3       108071   36    Male        Married\n",
              "4       116915   38    Male        Married"
            ]
          },
          "metadata": {
            "tags": []
          },
          "execution_count": 32
        }
      ]
    },
    {
      "cell_type": "code",
      "metadata": {
        "colab": {
          "base_uri": "https://localhost:8080/"
        },
        "id": "vvRzBwArWXVG",
        "outputId": "28773166-1df8-4a76-f2a0-c94800c80f12"
      },
      "source": [
        "employee_details_data.describe()"
      ],
      "execution_count": null,
      "outputs": [
        {
          "output_type": "execute_result",
          "data": {
            "text/html": [
              "<div>\n",
              "<style scoped>\n",
              "    .dataframe tbody tr th:only-of-type {\n",
              "        vertical-align: middle;\n",
              "    }\n",
              "\n",
              "    .dataframe tbody tr th {\n",
              "        vertical-align: top;\n",
              "    }\n",
              "\n",
              "    .dataframe thead th {\n",
              "        text-align: right;\n",
              "    }\n",
              "</style>\n",
              "<table border=\"1\" class=\"dataframe\">\n",
              "  <thead>\n",
              "    <tr style=\"text-align: right;\">\n",
              "      <th></th>\n",
              "      <th>employee_id</th>\n",
              "      <th>age</th>\n",
              "    </tr>\n",
              "  </thead>\n",
              "  <tbody>\n",
              "    <tr>\n",
              "      <th>count</th>\n",
              "      <td>14245.000000</td>\n",
              "      <td>14245.000000</td>\n",
              "    </tr>\n",
              "    <tr>\n",
              "      <th>mean</th>\n",
              "      <td>112123.050544</td>\n",
              "      <td>32.889926</td>\n",
              "    </tr>\n",
              "    <tr>\n",
              "      <th>std</th>\n",
              "      <td>8500.457343</td>\n",
              "      <td>9.970834</td>\n",
              "    </tr>\n",
              "    <tr>\n",
              "      <th>min</th>\n",
              "      <td>100101.000000</td>\n",
              "      <td>22.000000</td>\n",
              "    </tr>\n",
              "    <tr>\n",
              "      <th>25%</th>\n",
              "      <td>105775.000000</td>\n",
              "      <td>24.000000</td>\n",
              "    </tr>\n",
              "    <tr>\n",
              "      <th>50%</th>\n",
              "      <td>111298.000000</td>\n",
              "      <td>29.000000</td>\n",
              "    </tr>\n",
              "    <tr>\n",
              "      <th>75%</th>\n",
              "      <td>116658.000000</td>\n",
              "      <td>41.000000</td>\n",
              "    </tr>\n",
              "    <tr>\n",
              "      <th>max</th>\n",
              "      <td>148988.000000</td>\n",
              "      <td>57.000000</td>\n",
              "    </tr>\n",
              "  </tbody>\n",
              "</table>\n",
              "</div>"
            ],
            "text/plain": [
              "         employee_id           age\n",
              "count   14245.000000  14245.000000\n",
              "mean   112123.050544     32.889926\n",
              "std      8500.457343      9.970834\n",
              "min    100101.000000     22.000000\n",
              "25%    105775.000000     24.000000\n",
              "50%    111298.000000     29.000000\n",
              "75%    116658.000000     41.000000\n",
              "max    148988.000000     57.000000"
            ]
          },
          "metadata": {
            "tags": []
          },
          "execution_count": 33
        }
      ]
    },
    {
      "cell_type": "code",
      "metadata": {
        "colab": {
          "base_uri": "https://localhost:8080/"
        },
        "id": "29ac8-qlWXVG",
        "outputId": "ebc8f182-602f-40d2-92fc-791a2348349d"
      },
      "source": [
        "employee_details_data.info()"
      ],
      "execution_count": null,
      "outputs": [
        {
          "output_type": "stream",
          "text": [
            "<class 'pandas.core.frame.DataFrame'>\n",
            "RangeIndex: 14245 entries, 0 to 14244\n",
            "Data columns (total 4 columns):\n",
            " #   Column          Non-Null Count  Dtype \n",
            "---  ------          --------------  ----- \n",
            " 0   employee_id     14245 non-null  int64 \n",
            " 1   age             14245 non-null  int64 \n",
            " 2   gender          14245 non-null  object\n",
            " 3   marital_status  14245 non-null  object\n",
            "dtypes: int64(2), object(2)\n",
            "memory usage: 445.3+ KB\n"
          ],
          "name": "stdout"
        }
      ]
    },
    {
      "cell_type": "code",
      "metadata": {
        "colab": {
          "base_uri": "https://localhost:8080/"
        },
        "id": "HpBGDiO1WXVG",
        "outputId": "fd27a100-5ffc-4950-b576-0e49b55e6508"
      },
      "source": [
        "employee_details_data.employee_id.nunique()"
      ],
      "execution_count": null,
      "outputs": [
        {
          "output_type": "execute_result",
          "data": {
            "text/plain": [
              "14245"
            ]
          },
          "metadata": {
            "tags": []
          },
          "execution_count": 35
        }
      ]
    },
    {
      "cell_type": "markdown",
      "metadata": {
        "id": "r7EsSJ3jWXVG"
      },
      "source": [
        "**Note**: There are 14245 unique employee_ids in employee_details_data. Where as in employee_data, there are only 14117 unique records. Employee_data has 128 employee_ids missing. "
      ]
    },
    {
      "cell_type": "code",
      "metadata": {
        "colab": {
          "base_uri": "https://localhost:8080/"
        },
        "id": "VMOR69QwWXVG",
        "outputId": "1ae973e2-2371-4811-9aec-7f73d58e4a13"
      },
      "source": [
        "employee_details_data[employee_details_data['employee_id'] == 0]"
      ],
      "execution_count": null,
      "outputs": [
        {
          "output_type": "execute_result",
          "data": {
            "text/html": [
              "<div>\n",
              "<style scoped>\n",
              "    .dataframe tbody tr th:only-of-type {\n",
              "        vertical-align: middle;\n",
              "    }\n",
              "\n",
              "    .dataframe tbody tr th {\n",
              "        vertical-align: top;\n",
              "    }\n",
              "\n",
              "    .dataframe thead th {\n",
              "        text-align: right;\n",
              "    }\n",
              "</style>\n",
              "<table border=\"1\" class=\"dataframe\">\n",
              "  <thead>\n",
              "    <tr style=\"text-align: right;\">\n",
              "      <th></th>\n",
              "      <th>employee_id</th>\n",
              "      <th>age</th>\n",
              "      <th>gender</th>\n",
              "      <th>marital_status</th>\n",
              "    </tr>\n",
              "  </thead>\n",
              "  <tbody>\n",
              "  </tbody>\n",
              "</table>\n",
              "</div>"
            ],
            "text/plain": [
              "Empty DataFrame\n",
              "Columns: [employee_id, age, gender, marital_status]\n",
              "Index: []"
            ]
          },
          "metadata": {
            "tags": []
          },
          "execution_count": 36
        }
      ]
    },
    {
      "cell_type": "markdown",
      "metadata": {
        "id": "Vmif8ijLWXVG"
      },
      "source": [
        "# \t2. Fix Structural Errors"
      ]
    },
    {
      "cell_type": "markdown",
      "metadata": {
        "id": "j-oelA0jWXVG"
      },
      "source": [
        "### Dropping duplicate columns:"
      ]
    },
    {
      "cell_type": "code",
      "metadata": {
        "id": "lMYezsSaWXVG"
      },
      "source": [
        "employee_data = employee_data.drop_duplicates()"
      ],
      "execution_count": null,
      "outputs": []
    },
    {
      "cell_type": "markdown",
      "metadata": {
        "id": "t3hM77X9WXVG"
      },
      "source": [
        "### Dropping employee_id=0 columns:"
      ]
    },
    {
      "cell_type": "code",
      "metadata": {
        "colab": {
          "base_uri": "https://localhost:8080/"
        },
        "id": "k7k5fEDgWXVG",
        "outputId": "31d810f9-493a-4d66-f901-9bbb1db1352d"
      },
      "source": [
        "employee_data[employee_data['employee_id'] == 0].index"
      ],
      "execution_count": null,
      "outputs": [
        {
          "output_type": "execute_result",
          "data": {
            "text/plain": [
              "Int64Index([34, 304, 1234, 11304, 12304], dtype='int64')"
            ]
          },
          "metadata": {
            "tags": []
          },
          "execution_count": 38
        }
      ]
    },
    {
      "cell_type": "code",
      "metadata": {
        "id": "k6ldNJm2WXVI"
      },
      "source": [
        "employee_data = employee_data.drop(employee_data[employee_data['employee_id'] == 0].index)\n",
        "#data.drop([\"EventID\"], axis = 1, inplace = True)"
      ],
      "execution_count": null,
      "outputs": []
    },
    {
      "cell_type": "code",
      "metadata": {
        "colab": {
          "base_uri": "https://localhost:8080/"
        },
        "id": "G70yWrZwWXVI",
        "outputId": "1545379c-543f-4282-e9ba-44556874efad"
      },
      "source": [
        "employee_data.count()"
      ],
      "execution_count": null,
      "outputs": [
        {
          "output_type": "execute_result",
          "data": {
            "text/plain": [
              "avg_monthly_hrs      14116\n",
              "department           13410\n",
              "filed_complaint       2041\n",
              "last_evaluation      12629\n",
              "n_projects           14116\n",
              "recently_promoted      297\n",
              "salary               14116\n",
              "satisfaction         13966\n",
              "status               14116\n",
              "tenure               13966\n",
              "employee_id          14116\n",
              "dtype: int64"
            ]
          },
          "metadata": {
            "tags": []
          },
          "execution_count": 40
        }
      ]
    },
    {
      "cell_type": "code",
      "metadata": {
        "colab": {
          "base_uri": "https://localhost:8080/",
          "height": 343
        },
        "id": "fBja9RYkWXVI",
        "outputId": "bd539d27-d622-4f57-baa0-c148e67addb7"
      },
      "source": [
        "employee_data.head(10)"
      ],
      "execution_count": null,
      "outputs": [
        {
          "output_type": "execute_result",
          "data": {
            "text/html": [
              "<div>\n",
              "<style scoped>\n",
              "    .dataframe tbody tr th:only-of-type {\n",
              "        vertical-align: middle;\n",
              "    }\n",
              "\n",
              "    .dataframe tbody tr th {\n",
              "        vertical-align: top;\n",
              "    }\n",
              "\n",
              "    .dataframe thead th {\n",
              "        text-align: right;\n",
              "    }\n",
              "</style>\n",
              "<table border=\"1\" class=\"dataframe\">\n",
              "  <thead>\n",
              "    <tr style=\"text-align: right;\">\n",
              "      <th></th>\n",
              "      <th>avg_monthly_hrs</th>\n",
              "      <th>department</th>\n",
              "      <th>filed_complaint</th>\n",
              "      <th>last_evaluation</th>\n",
              "      <th>n_projects</th>\n",
              "      <th>recently_promoted</th>\n",
              "      <th>salary</th>\n",
              "      <th>satisfaction</th>\n",
              "      <th>status</th>\n",
              "      <th>tenure</th>\n",
              "      <th>employee_id</th>\n",
              "    </tr>\n",
              "  </thead>\n",
              "  <tbody>\n",
              "    <tr>\n",
              "      <th>0</th>\n",
              "      <td>246.00</td>\n",
              "      <td>None</td>\n",
              "      <td>None</td>\n",
              "      <td>0.866838</td>\n",
              "      <td>6</td>\n",
              "      <td>NaN</td>\n",
              "      <td>medium</td>\n",
              "      <td>0.134415</td>\n",
              "      <td>Left</td>\n",
              "      <td>4.00</td>\n",
              "      <td>124467</td>\n",
              "    </tr>\n",
              "    <tr>\n",
              "      <th>1</th>\n",
              "      <td>134.00</td>\n",
              "      <td>None</td>\n",
              "      <td>None</td>\n",
              "      <td>0.555718</td>\n",
              "      <td>2</td>\n",
              "      <td>NaN</td>\n",
              "      <td>low</td>\n",
              "      <td>0.511041</td>\n",
              "      <td>Left</td>\n",
              "      <td>3.00</td>\n",
              "      <td>112210</td>\n",
              "    </tr>\n",
              "    <tr>\n",
              "      <th>2</th>\n",
              "      <td>156.00</td>\n",
              "      <td>D00-SS</td>\n",
              "      <td>1.00</td>\n",
              "      <td>0.474082</td>\n",
              "      <td>2</td>\n",
              "      <td>NaN</td>\n",
              "      <td>medium</td>\n",
              "      <td>0.405101</td>\n",
              "      <td>Left</td>\n",
              "      <td>3.00</td>\n",
              "      <td>126150</td>\n",
              "    </tr>\n",
              "    <tr>\n",
              "      <th>3</th>\n",
              "      <td>256.00</td>\n",
              "      <td>D00-SP</td>\n",
              "      <td>None</td>\n",
              "      <td>0.961360</td>\n",
              "      <td>6</td>\n",
              "      <td>NaN</td>\n",
              "      <td>low</td>\n",
              "      <td>0.152974</td>\n",
              "      <td>Left</td>\n",
              "      <td>4.00</td>\n",
              "      <td>125346</td>\n",
              "    </tr>\n",
              "    <tr>\n",
              "      <th>4</th>\n",
              "      <td>146.00</td>\n",
              "      <td>D00-SS</td>\n",
              "      <td>None</td>\n",
              "      <td>0.507349</td>\n",
              "      <td>2</td>\n",
              "      <td>NaN</td>\n",
              "      <td>medium</td>\n",
              "      <td>0.434845</td>\n",
              "      <td>Left</td>\n",
              "      <td>3.00</td>\n",
              "      <td>113707</td>\n",
              "    </tr>\n",
              "    <tr>\n",
              "      <th>5</th>\n",
              "      <td>135.00</td>\n",
              "      <td>D00-MT</td>\n",
              "      <td>None</td>\n",
              "      <td>0.482184</td>\n",
              "      <td>2</td>\n",
              "      <td>NaN</td>\n",
              "      <td>low</td>\n",
              "      <td>0.381545</td>\n",
              "      <td>Left</td>\n",
              "      <td>3.00</td>\n",
              "      <td>121685</td>\n",
              "    </tr>\n",
              "    <tr>\n",
              "      <th>6</th>\n",
              "      <td>270.00</td>\n",
              "      <td>D00-PD</td>\n",
              "      <td>None</td>\n",
              "      <td>0.867087</td>\n",
              "      <td>6</td>\n",
              "      <td>NaN</td>\n",
              "      <td>low</td>\n",
              "      <td>0.172575</td>\n",
              "      <td>Left</td>\n",
              "      <td>4.00</td>\n",
              "      <td>119912</td>\n",
              "    </tr>\n",
              "    <tr>\n",
              "      <th>7</th>\n",
              "      <td>244.00</td>\n",
              "      <td>D00-IT</td>\n",
              "      <td>None</td>\n",
              "      <td>0.926197</td>\n",
              "      <td>6</td>\n",
              "      <td>NaN</td>\n",
              "      <td>medium</td>\n",
              "      <td>0.061868</td>\n",
              "      <td>Left</td>\n",
              "      <td>5.00</td>\n",
              "      <td>112868</td>\n",
              "    </tr>\n",
              "    <tr>\n",
              "      <th>8</th>\n",
              "      <td>289.00</td>\n",
              "      <td>D00-IT</td>\n",
              "      <td>None</td>\n",
              "      <td>0.929858</td>\n",
              "      <td>7</td>\n",
              "      <td>NaN</td>\n",
              "      <td>low</td>\n",
              "      <td>0.161744</td>\n",
              "      <td>Left</td>\n",
              "      <td>4.00</td>\n",
              "      <td>122314</td>\n",
              "    </tr>\n",
              "    <tr>\n",
              "      <th>9</th>\n",
              "      <td>281.00</td>\n",
              "      <td>D00-SS</td>\n",
              "      <td>None</td>\n",
              "      <td>0.907965</td>\n",
              "      <td>6</td>\n",
              "      <td>NaN</td>\n",
              "      <td>medium</td>\n",
              "      <td>0.105749</td>\n",
              "      <td>Left</td>\n",
              "      <td>4.00</td>\n",
              "      <td>122394</td>\n",
              "    </tr>\n",
              "  </tbody>\n",
              "</table>\n",
              "</div>"
            ],
            "text/plain": [
              "  avg_monthly_hrs department filed_complaint  ...  status  tenure  employee_id\n",
              "0          246.00       None            None  ...    Left    4.00       124467\n",
              "1          134.00       None            None  ...    Left    3.00       112210\n",
              "2          156.00     D00-SS            1.00  ...    Left    3.00       126150\n",
              "3          256.00     D00-SP            None  ...    Left    4.00       125346\n",
              "4          146.00     D00-SS            None  ...    Left    3.00       113707\n",
              "5          135.00     D00-MT            None  ...    Left    3.00       121685\n",
              "6          270.00     D00-PD            None  ...    Left    4.00       119912\n",
              "7          244.00     D00-IT            None  ...    Left    5.00       112868\n",
              "8          289.00     D00-IT            None  ...    Left    4.00       122314\n",
              "9          281.00     D00-SS            None  ...    Left    4.00       122394\n",
              "\n",
              "[10 rows x 11 columns]"
            ]
          },
          "metadata": {
            "tags": []
          },
          "execution_count": 41
        }
      ]
    },
    {
      "cell_type": "code",
      "metadata": {
        "id": "uBHH_9kYWXVI"
      },
      "source": [
        "employee_data['filed_complaint'] = employee_data['filed_complaint'].fillna(0)\n",
        "employee_data['recently_promoted'] = employee_data['recently_promoted'].fillna(0)\n",
        "employee_data['last_evaluation'] = employee_data['last_evaluation'].fillna(0.0)\n",
        "employee_data['satisfaction'] = employee_data['satisfaction'].fillna(0.0)\n",
        "employee_data['tenure'] = employee_data['tenure'].fillna(0.0)"
      ],
      "execution_count": null,
      "outputs": []
    },
    {
      "cell_type": "markdown",
      "metadata": {
        "id": "D4j6FccpWXVI"
      },
      "source": [
        "### Replace wrong department value '-IT' with 'D00-IT'"
      ]
    },
    {
      "cell_type": "code",
      "metadata": {
        "id": "tfHCBEC-WXVI"
      },
      "source": [
        "\n",
        "#employee_data['department'] = employee_data.apply(lambda x: 'D00-IT' if(employee_data['department'] == '-IT' or )  else employee_data['department'], axis =1)\n",
        "\n",
        "employee_data['department'] = employee_data['department'].replace({'-IT': 'D00-IT'})\n"
      ],
      "execution_count": null,
      "outputs": []
    },
    {
      "cell_type": "code",
      "metadata": {
        "colab": {
          "base_uri": "https://localhost:8080/"
        },
        "id": "3vepqBN-WXVI",
        "outputId": "3a262a43-0f0c-4dbf-e6ca-5274d993b699"
      },
      "source": [
        "employee_data.department.unique()"
      ],
      "execution_count": null,
      "outputs": [
        {
          "output_type": "execute_result",
          "data": {
            "text/plain": [
              "array([None, 'D00-SS', 'D00-SP', 'D00-MT', 'D00-PD', 'D00-IT', 'D00-AD',\n",
              "       'D00-MN', 'D00-ENG', 'D00-PR', 'D00-TP', 'D00-FN'], dtype=object)"
            ]
          },
          "metadata": {
            "tags": []
          },
          "execution_count": 44
        }
      ]
    },
    {
      "cell_type": "markdown",
      "metadata": {
        "id": "7DXlP5qGWXVI"
      },
      "source": [
        "#### Replacing missing department with mode value"
      ]
    },
    {
      "cell_type": "code",
      "metadata": {
        "id": "MDbKXCe1WXVI"
      },
      "source": [
        "employee_data['department'] = employee_data['department'].fillna(employee_data['department'].mode()[0])"
      ],
      "execution_count": null,
      "outputs": []
    },
    {
      "cell_type": "code",
      "metadata": {
        "colab": {
          "base_uri": "https://localhost:8080/"
        },
        "id": "gsIHy4myWXVI",
        "outputId": "5d15472d-4c7a-409c-f11e-6f6958515f08"
      },
      "source": [
        "employee_data.info()"
      ],
      "execution_count": null,
      "outputs": [
        {
          "output_type": "stream",
          "text": [
            "<class 'pandas.core.frame.DataFrame'>\n",
            "Int64Index: 14116 entries, 0 to 14120\n",
            "Data columns (total 11 columns):\n",
            " #   Column             Non-Null Count  Dtype  \n",
            "---  ------             --------------  -----  \n",
            " 0   avg_monthly_hrs    14116 non-null  object \n",
            " 1   department         14116 non-null  object \n",
            " 2   filed_complaint    14116 non-null  object \n",
            " 3   last_evaluation    14116 non-null  float64\n",
            " 4   n_projects         14116 non-null  int64  \n",
            " 5   recently_promoted  14116 non-null  float64\n",
            " 6   salary             14116 non-null  object \n",
            " 7   satisfaction       14116 non-null  float64\n",
            " 8   status             14116 non-null  object \n",
            " 9   tenure             14116 non-null  object \n",
            " 10  employee_id        14116 non-null  int64  \n",
            "dtypes: float64(3), int64(2), object(6)\n",
            "memory usage: 1.3+ MB\n"
          ],
          "name": "stdout"
        }
      ]
    },
    {
      "cell_type": "markdown",
      "metadata": {
        "id": "Br2fx1PEWXVI"
      },
      "source": [
        "**Note**: avg_monthly_hrs, filed_complaint, salary,tenure are considered object types where as they have float values iin those fields. So changing the type of the column to float"
      ]
    },
    {
      "cell_type": "code",
      "metadata": {
        "id": "jdgWAXsyWXVI"
      },
      "source": [
        "employee_data['avg_monthly_hrs'] =employee_data['avg_monthly_hrs'].astype('float')\n",
        "employee_data['filed_complaint'] =employee_data['filed_complaint'].astype('int')\n",
        "employee_data['tenure'] =employee_data['tenure'].astype('float')"
      ],
      "execution_count": null,
      "outputs": []
    },
    {
      "cell_type": "code",
      "metadata": {
        "colab": {
          "base_uri": "https://localhost:8080/"
        },
        "id": "uvr0KkhmWXVI",
        "outputId": "04fe2a2f-2890-4cf7-99e5-dd07d9fa6828"
      },
      "source": [
        "employee_data.filed_complaint.value_counts()"
      ],
      "execution_count": null,
      "outputs": [
        {
          "output_type": "execute_result",
          "data": {
            "text/plain": [
              "0    12075\n",
              "1     2041\n",
              "Name: filed_complaint, dtype: int64"
            ]
          },
          "metadata": {
            "tags": []
          },
          "execution_count": 48
        }
      ]
    },
    {
      "cell_type": "markdown",
      "metadata": {
        "id": "656ynCLvWXVI"
      },
      "source": [
        "# Merging Data"
      ]
    },
    {
      "cell_type": "code",
      "metadata": {
        "id": "2exQlrk-WXVI"
      },
      "source": [
        "train_dataset = pd.merge(employee_details_data, employee_data, on='employee_id', how='right') #.merge(department_data, on='department', how='left')"
      ],
      "execution_count": null,
      "outputs": []
    },
    {
      "cell_type": "code",
      "metadata": {
        "colab": {
          "base_uri": "https://localhost:8080/",
          "height": 195
        },
        "id": "VBFHHiJVWXVI",
        "outputId": "64afeafa-48ed-4ea2-de09-72233a65c032"
      },
      "source": [
        "train_dataset.head()"
      ],
      "execution_count": null,
      "outputs": [
        {
          "output_type": "execute_result",
          "data": {
            "text/html": [
              "<div>\n",
              "<style scoped>\n",
              "    .dataframe tbody tr th:only-of-type {\n",
              "        vertical-align: middle;\n",
              "    }\n",
              "\n",
              "    .dataframe tbody tr th {\n",
              "        vertical-align: top;\n",
              "    }\n",
              "\n",
              "    .dataframe thead th {\n",
              "        text-align: right;\n",
              "    }\n",
              "</style>\n",
              "<table border=\"1\" class=\"dataframe\">\n",
              "  <thead>\n",
              "    <tr style=\"text-align: right;\">\n",
              "      <th></th>\n",
              "      <th>employee_id</th>\n",
              "      <th>age</th>\n",
              "      <th>gender</th>\n",
              "      <th>marital_status</th>\n",
              "      <th>avg_monthly_hrs</th>\n",
              "      <th>department</th>\n",
              "      <th>filed_complaint</th>\n",
              "      <th>last_evaluation</th>\n",
              "      <th>n_projects</th>\n",
              "      <th>recently_promoted</th>\n",
              "      <th>salary</th>\n",
              "      <th>satisfaction</th>\n",
              "      <th>status</th>\n",
              "      <th>tenure</th>\n",
              "    </tr>\n",
              "  </thead>\n",
              "  <tbody>\n",
              "    <tr>\n",
              "      <th>0</th>\n",
              "      <td>124467</td>\n",
              "      <td>42</td>\n",
              "      <td>Female</td>\n",
              "      <td>Married</td>\n",
              "      <td>246.0</td>\n",
              "      <td>D00-SS</td>\n",
              "      <td>0</td>\n",
              "      <td>0.866838</td>\n",
              "      <td>6</td>\n",
              "      <td>0.0</td>\n",
              "      <td>medium</td>\n",
              "      <td>0.134415</td>\n",
              "      <td>Left</td>\n",
              "      <td>4.0</td>\n",
              "    </tr>\n",
              "    <tr>\n",
              "      <th>1</th>\n",
              "      <td>112210</td>\n",
              "      <td>23</td>\n",
              "      <td>Female</td>\n",
              "      <td>Unmarried</td>\n",
              "      <td>134.0</td>\n",
              "      <td>D00-SS</td>\n",
              "      <td>0</td>\n",
              "      <td>0.555718</td>\n",
              "      <td>2</td>\n",
              "      <td>0.0</td>\n",
              "      <td>low</td>\n",
              "      <td>0.511041</td>\n",
              "      <td>Left</td>\n",
              "      <td>3.0</td>\n",
              "    </tr>\n",
              "    <tr>\n",
              "      <th>2</th>\n",
              "      <td>126150</td>\n",
              "      <td>24</td>\n",
              "      <td>Female</td>\n",
              "      <td>Unmarried</td>\n",
              "      <td>156.0</td>\n",
              "      <td>D00-SS</td>\n",
              "      <td>1</td>\n",
              "      <td>0.474082</td>\n",
              "      <td>2</td>\n",
              "      <td>0.0</td>\n",
              "      <td>medium</td>\n",
              "      <td>0.405101</td>\n",
              "      <td>Left</td>\n",
              "      <td>3.0</td>\n",
              "    </tr>\n",
              "    <tr>\n",
              "      <th>3</th>\n",
              "      <td>125346</td>\n",
              "      <td>51</td>\n",
              "      <td>Female</td>\n",
              "      <td>Married</td>\n",
              "      <td>256.0</td>\n",
              "      <td>D00-SP</td>\n",
              "      <td>0</td>\n",
              "      <td>0.961360</td>\n",
              "      <td>6</td>\n",
              "      <td>0.0</td>\n",
              "      <td>low</td>\n",
              "      <td>0.152974</td>\n",
              "      <td>Left</td>\n",
              "      <td>4.0</td>\n",
              "    </tr>\n",
              "    <tr>\n",
              "      <th>4</th>\n",
              "      <td>113707</td>\n",
              "      <td>23</td>\n",
              "      <td>Female</td>\n",
              "      <td>Unmarried</td>\n",
              "      <td>146.0</td>\n",
              "      <td>D00-SS</td>\n",
              "      <td>0</td>\n",
              "      <td>0.507349</td>\n",
              "      <td>2</td>\n",
              "      <td>0.0</td>\n",
              "      <td>medium</td>\n",
              "      <td>0.434845</td>\n",
              "      <td>Left</td>\n",
              "      <td>3.0</td>\n",
              "    </tr>\n",
              "  </tbody>\n",
              "</table>\n",
              "</div>"
            ],
            "text/plain": [
              "   employee_id  age  gender marital_status  ...  salary satisfaction  status  tenure\n",
              "0       124467   42  Female        Married  ...  medium     0.134415    Left     4.0\n",
              "1       112210   23  Female      Unmarried  ...     low     0.511041    Left     3.0\n",
              "2       126150   24  Female      Unmarried  ...  medium     0.405101    Left     3.0\n",
              "3       125346   51  Female        Married  ...     low     0.152974    Left     4.0\n",
              "4       113707   23  Female      Unmarried  ...  medium     0.434845    Left     3.0\n",
              "\n",
              "[5 rows x 14 columns]"
            ]
          },
          "metadata": {
            "tags": []
          },
          "execution_count": 50
        }
      ]
    },
    {
      "cell_type": "code",
      "metadata": {
        "id": "dBeztNcyWXVI"
      },
      "source": [
        "train_dataset.to_excel(\"employee_data.xlsx\") "
      ],
      "execution_count": null,
      "outputs": []
    },
    {
      "cell_type": "code",
      "metadata": {
        "colab": {
          "base_uri": "https://localhost:8080/"
        },
        "id": "tRYpQTd2WXVJ",
        "outputId": "13b46485-ed25-4e34-a9d5-b8f1db2eca22"
      },
      "source": [
        "train_dataset.info()"
      ],
      "execution_count": null,
      "outputs": [
        {
          "output_type": "stream",
          "text": [
            "<class 'pandas.core.frame.DataFrame'>\n",
            "Int64Index: 14116 entries, 0 to 14115\n",
            "Data columns (total 14 columns):\n",
            " #   Column             Non-Null Count  Dtype  \n",
            "---  ------             --------------  -----  \n",
            " 0   employee_id        14116 non-null  int64  \n",
            " 1   age                14116 non-null  int64  \n",
            " 2   gender             14116 non-null  object \n",
            " 3   marital_status     14116 non-null  object \n",
            " 4   avg_monthly_hrs    14116 non-null  float64\n",
            " 5   department         14116 non-null  object \n",
            " 6   filed_complaint    14116 non-null  int64  \n",
            " 7   last_evaluation    14116 non-null  float64\n",
            " 8   n_projects         14116 non-null  int64  \n",
            " 9   recently_promoted  14116 non-null  float64\n",
            " 10  salary             14116 non-null  object \n",
            " 11  satisfaction       14116 non-null  float64\n",
            " 12  status             14116 non-null  object \n",
            " 13  tenure             14116 non-null  float64\n",
            "dtypes: float64(5), int64(4), object(5)\n",
            "memory usage: 1.6+ MB\n"
          ],
          "name": "stdout"
        }
      ]
    },
    {
      "cell_type": "code",
      "metadata": {
        "colab": {
          "base_uri": "https://localhost:8080/",
          "height": 284
        },
        "id": "GremaZBqWXVJ",
        "outputId": "810ee4d6-3563-4731-e4bb-ffc103df07f6"
      },
      "source": [
        "train_dataset.describe()"
      ],
      "execution_count": null,
      "outputs": [
        {
          "output_type": "execute_result",
          "data": {
            "text/html": [
              "<div>\n",
              "<style scoped>\n",
              "    .dataframe tbody tr th:only-of-type {\n",
              "        vertical-align: middle;\n",
              "    }\n",
              "\n",
              "    .dataframe tbody tr th {\n",
              "        vertical-align: top;\n",
              "    }\n",
              "\n",
              "    .dataframe thead th {\n",
              "        text-align: right;\n",
              "    }\n",
              "</style>\n",
              "<table border=\"1\" class=\"dataframe\">\n",
              "  <thead>\n",
              "    <tr style=\"text-align: right;\">\n",
              "      <th></th>\n",
              "      <th>employee_id</th>\n",
              "      <th>age</th>\n",
              "      <th>avg_monthly_hrs</th>\n",
              "      <th>filed_complaint</th>\n",
              "      <th>last_evaluation</th>\n",
              "      <th>n_projects</th>\n",
              "      <th>recently_promoted</th>\n",
              "      <th>satisfaction</th>\n",
              "      <th>tenure</th>\n",
              "    </tr>\n",
              "  </thead>\n",
              "  <tbody>\n",
              "    <tr>\n",
              "      <th>count</th>\n",
              "      <td>14116.000000</td>\n",
              "      <td>14116.000000</td>\n",
              "      <td>14116.000000</td>\n",
              "      <td>14116.000000</td>\n",
              "      <td>14116.000000</td>\n",
              "      <td>14116.000000</td>\n",
              "      <td>14116.000000</td>\n",
              "      <td>14116.000000</td>\n",
              "      <td>14116.000000</td>\n",
              "    </tr>\n",
              "    <tr>\n",
              "      <th>mean</th>\n",
              "      <td>112120.657764</td>\n",
              "      <td>32.896005</td>\n",
              "      <td>199.992632</td>\n",
              "      <td>0.144588</td>\n",
              "      <td>0.642653</td>\n",
              "      <td>3.777770</td>\n",
              "      <td>0.021040</td>\n",
              "      <td>0.614719</td>\n",
              "      <td>3.460541</td>\n",
              "    </tr>\n",
              "    <tr>\n",
              "      <th>std</th>\n",
              "      <td>8497.639403</td>\n",
              "      <td>9.975000</td>\n",
              "      <td>50.826952</td>\n",
              "      <td>0.351697</td>\n",
              "      <td>0.274645</td>\n",
              "      <td>1.249693</td>\n",
              "      <td>0.143523</td>\n",
              "      <td>0.257143</td>\n",
              "      <td>1.496271</td>\n",
              "    </tr>\n",
              "    <tr>\n",
              "      <th>min</th>\n",
              "      <td>100101.000000</td>\n",
              "      <td>22.000000</td>\n",
              "      <td>49.000000</td>\n",
              "      <td>0.000000</td>\n",
              "      <td>0.000000</td>\n",
              "      <td>1.000000</td>\n",
              "      <td>0.000000</td>\n",
              "      <td>0.000000</td>\n",
              "      <td>0.000000</td>\n",
              "    </tr>\n",
              "    <tr>\n",
              "      <th>25%</th>\n",
              "      <td>105773.500000</td>\n",
              "      <td>24.000000</td>\n",
              "      <td>155.000000</td>\n",
              "      <td>0.000000</td>\n",
              "      <td>0.522018</td>\n",
              "      <td>3.000000</td>\n",
              "      <td>0.000000</td>\n",
              "      <td>0.442808</td>\n",
              "      <td>3.000000</td>\n",
              "    </tr>\n",
              "    <tr>\n",
              "      <th>50%</th>\n",
              "      <td>111293.500000</td>\n",
              "      <td>29.000000</td>\n",
              "      <td>199.000000</td>\n",
              "      <td>0.000000</td>\n",
              "      <td>0.683402</td>\n",
              "      <td>4.000000</td>\n",
              "      <td>0.000000</td>\n",
              "      <td>0.648350</td>\n",
              "      <td>3.000000</td>\n",
              "    </tr>\n",
              "    <tr>\n",
              "      <th>75%</th>\n",
              "      <td>116655.250000</td>\n",
              "      <td>41.000000</td>\n",
              "      <td>245.000000</td>\n",
              "      <td>0.000000</td>\n",
              "      <td>0.856854</td>\n",
              "      <td>5.000000</td>\n",
              "      <td>0.000000</td>\n",
              "      <td>0.822960</td>\n",
              "      <td>4.000000</td>\n",
              "    </tr>\n",
              "    <tr>\n",
              "      <th>max</th>\n",
              "      <td>148988.000000</td>\n",
              "      <td>57.000000</td>\n",
              "      <td>310.000000</td>\n",
              "      <td>1.000000</td>\n",
              "      <td>1.000000</td>\n",
              "      <td>7.000000</td>\n",
              "      <td>1.000000</td>\n",
              "      <td>1.000000</td>\n",
              "      <td>10.000000</td>\n",
              "    </tr>\n",
              "  </tbody>\n",
              "</table>\n",
              "</div>"
            ],
            "text/plain": [
              "         employee_id           age  ...  satisfaction        tenure\n",
              "count   14116.000000  14116.000000  ...  14116.000000  14116.000000\n",
              "mean   112120.657764     32.896005  ...      0.614719      3.460541\n",
              "std      8497.639403      9.975000  ...      0.257143      1.496271\n",
              "min    100101.000000     22.000000  ...      0.000000      0.000000\n",
              "25%    105773.500000     24.000000  ...      0.442808      3.000000\n",
              "50%    111293.500000     29.000000  ...      0.648350      3.000000\n",
              "75%    116655.250000     41.000000  ...      0.822960      4.000000\n",
              "max    148988.000000     57.000000  ...      1.000000     10.000000\n",
              "\n",
              "[8 rows x 9 columns]"
            ]
          },
          "metadata": {
            "tags": []
          },
          "execution_count": 53
        }
      ]
    },
    {
      "cell_type": "markdown",
      "metadata": {
        "id": "kexm0FLmWXVJ"
      },
      "source": [
        ""
      ]
    },
    {
      "cell_type": "code",
      "metadata": {
        "colab": {
          "base_uri": "https://localhost:8080/"
        },
        "id": "h91m6zlsWXVJ",
        "outputId": "aa84b586-2974-4fea-83dc-a961f82bdf0f"
      },
      "source": [
        "train_dataset.columns"
      ],
      "execution_count": null,
      "outputs": [
        {
          "output_type": "execute_result",
          "data": {
            "text/plain": [
              "Index(['employee_id', 'age', 'gender', 'marital_status', 'avg_monthly_hrs',\n",
              "       'department', 'filed_complaint', 'last_evaluation', 'n_projects',\n",
              "       'recently_promoted', 'salary', 'satisfaction', 'status', 'tenure'],\n",
              "      dtype='object')"
            ]
          },
          "metadata": {
            "tags": []
          },
          "execution_count": 54
        }
      ]
    },
    {
      "cell_type": "code",
      "metadata": {
        "colab": {
          "base_uri": "https://localhost:8080/"
        },
        "id": "2iRrwfZEWXVJ",
        "outputId": "695d5d4e-61bf-49d0-f8b9-81d2a2e55bca"
      },
      "source": [
        "train_dataset.marital_status.value_counts()"
      ],
      "execution_count": null,
      "outputs": [
        {
          "output_type": "execute_result",
          "data": {
            "text/plain": [
              "Unmarried    7211\n",
              "Married      6905\n",
              "Name: marital_status, dtype: int64"
            ]
          },
          "metadata": {
            "tags": []
          },
          "execution_count": 55
        }
      ]
    },
    {
      "cell_type": "code",
      "metadata": {
        "colab": {
          "base_uri": "https://localhost:8080/",
          "height": 162
        },
        "id": "eAlHadHjWXVJ",
        "outputId": "4c06b025-3d95-45b2-cc7c-ae10b0cab226"
      },
      "source": [
        "gg[\"filed_complaint\"].value_counts()"
      ],
      "execution_count": null,
      "outputs": [
        {
          "output_type": "error",
          "ename": "NameError",
          "evalue": "ignored",
          "traceback": [
            "\u001b[0;31m---------------------------------------------------------------------------\u001b[0m",
            "\u001b[0;31mNameError\u001b[0m                                 Traceback (most recent call last)",
            "\u001b[0;32m<ipython-input-56-2229f2df1db6>\u001b[0m in \u001b[0;36m<module>\u001b[0;34m()\u001b[0m\n\u001b[0;32m----> 1\u001b[0;31m \u001b[0mgg\u001b[0m\u001b[0;34m[\u001b[0m\u001b[0;34m\"filed_complaint\"\u001b[0m\u001b[0;34m]\u001b[0m\u001b[0;34m.\u001b[0m\u001b[0mvalue_counts\u001b[0m\u001b[0;34m(\u001b[0m\u001b[0;34m)\u001b[0m\u001b[0;34m\u001b[0m\u001b[0;34m\u001b[0m\u001b[0m\n\u001b[0m",
            "\u001b[0;31mNameError\u001b[0m: name 'gg' is not defined"
          ]
        }
      ]
    },
    {
      "cell_type": "code",
      "metadata": {
        "id": "BlE2G52NWXVJ"
      },
      "source": [
        ""
      ],
      "execution_count": null,
      "outputs": []
    },
    {
      "cell_type": "markdown",
      "metadata": {
        "id": "EXx0BpK_WXVJ"
      },
      "source": [
        "# 3. EDA"
      ]
    },
    {
      "cell_type": "markdown",
      "metadata": {
        "id": "aRv06zGLWXVJ"
      },
      "source": [
        "#### Distribution of Left and Employed numbers"
      ]
    },
    {
      "cell_type": "code",
      "metadata": {
        "id": "6SHxATmdWXVJ"
      },
      "source": [
        "train_dataset['status'].value_counts().plot(kind='pie',  explode = [0, 0.09], fontsize=14, autopct='%3.1f%%', \n",
        "                                               figsize=(7,7), shadow=True, startangle=135, legend=True, cmap='summer')\n",
        "plt.title('Pie chart showing the proportion of employees who have left the organisation')"
      ],
      "execution_count": null,
      "outputs": []
    },
    {
      "cell_type": "markdown",
      "metadata": {
        "id": "7Z7oCGcnWXVJ"
      },
      "source": [
        "**Observations** : 23.8% of the employees have left and 76.2% of the employees are still employed with the company"
      ]
    },
    {
      "cell_type": "code",
      "metadata": {
        "id": "dQjbbmGjWXVJ"
      },
      "source": [
        "cont = ['satisfaction', 'avg_monthly_hrs', 'n_projects', 'tenure', 'age', 'last_evaluation']\n",
        "cats = list(set(train_dataset.columns)-set(cont))\n",
        "cats.remove('employee_id')\n",
        "cats.remove('status')\n",
        "print(cats)\n",
        "fig, axes = plt.subplots(3, 2, figsize=(15, 15))\n",
        "axes = [ax for axes_row in axes for ax in axes_row]\n",
        "\n",
        "for i, c in enumerate(train_dataset[cats]):\n",
        "    _ = train_dataset[c].value_counts()[::-1].plot(kind = 'pie', ax=axes[i], shadow = True, title=c, autopct='%.0f',cmap = \"Spectral\", fontsize=12, startangle = 30,wedgeprops=dict(width=0.15))\n",
        "    _ = axes[i].set_ylabel('')\n",
        "    \n",
        "_ = plt.tight_layout()\n"
      ],
      "execution_count": null,
      "outputs": []
    },
    {
      "cell_type": "code",
      "metadata": {
        "id": "atMSHktSWXVK"
      },
      "source": [
        "fig, ax = plt.subplots(figsize=(16,16))\n",
        "sns.heatmap( train_dataset[['age', 'avg_monthly_hrs', 'filed_complaint', 'last_evaluation','n_projects','recently_promoted','satisfaction','tenure'] ].corr(), annot=True );"
      ],
      "execution_count": null,
      "outputs": []
    },
    {
      "cell_type": "markdown",
      "metadata": {
        "id": "mujfeN6lWXVK"
      },
      "source": [
        "#### How are married people who are working long hours coping in the company"
      ]
    },
    {
      "cell_type": "code",
      "metadata": {
        "id": "7OiRhCyUWXVK"
      },
      "source": [
        "sns.factorplot(y ='marital_status', x= 'avg_monthly_hrs',kind = 'violin', col = 'gender', \n",
        "               hue= 'status',data = train_dataset, palette= 'RdBu', split = True)"
      ],
      "execution_count": null,
      "outputs": []
    },
    {
      "cell_type": "markdown",
      "metadata": {
        "id": "vUVGdU2FWXVK"
      },
      "source": [
        "**Observations**: Interestingly, most of the married people who have left the company have been working longer hours compared to married people who are still employed. Contrary to married people, Unmarried people who have left the company are interestingly working less than unmarried people who have stayed with the company. "
      ]
    },
    {
      "cell_type": "code",
      "metadata": {
        "id": "BMbEMI2aWXVK"
      },
      "source": [
        ""
      ],
      "execution_count": null,
      "outputs": []
    },
    {
      "cell_type": "markdown",
      "metadata": {
        "id": "Fu7M7IjuWXVK"
      },
      "source": [
        "#### Recently promoted vs average monthly working hours"
      ]
    },
    {
      "cell_type": "code",
      "metadata": {
        "id": "TlPw-kfvWXVK"
      },
      "source": [
        "sns.factorplot(x ='recently_promoted', y= 'avg_monthly_hrs',kind = 'violin', col='gender',\n",
        "               hue= 'status',data = train_dataset, palette='Set3', split = True)"
      ],
      "execution_count": null,
      "outputs": []
    },
    {
      "cell_type": "markdown",
      "metadata": {
        "id": "IcYESN7NWXVK"
      },
      "source": [
        "** Observations** : When we see how many hours an employees who is promoted working, we notice that a promoted employee if he has intention to leave, reduces his working hours."
      ]
    },
    {
      "cell_type": "markdown",
      "metadata": {
        "id": "GfyqgUv_WXVK"
      },
      "source": [
        "#### Recently promoted vs average monthly working hours"
      ]
    },
    {
      "cell_type": "code",
      "metadata": {
        "id": "jH8Mg_LgWXVK"
      },
      "source": [
        "g = sns.catplot(x ='marital_status', \n",
        "               hue= 'status',kind = 'count', col = 'gender', data = train_dataset, palette=\"Set1\")\n",
        "total = len(train_dataset['marital_status'])\n",
        "for ax in g.axes.ravel():\n",
        "  for p in ax.patches:\n",
        "    ax.annotate(format(p.get_height(), '.2f'), (p.get_x() + p.get_width() / 2., p.get_height()), ha = 'center', va = 'center', xytext = (0, 10), textcoords = 'offset points')"
      ],
      "execution_count": null,
      "outputs": []
    },
    {
      "cell_type": "markdown",
      "metadata": {
        "id": "OMsJx9PFWXVK"
      },
      "source": [
        "**Observations**: for around 3.7k male employees (either married or not), 900+ employees are quitting. That is around 25% of employees. when we consider Female employees, for 1726 married female employees 471 have left which makes 27%. where as 1024 unmarried female employees our of 1608, ie., 63% of unmarried female employees have left the company. "
      ]
    },
    {
      "cell_type": "markdown",
      "metadata": {
        "id": "xEko4t59WXVK"
      },
      "source": [
        "# 3. Preprocessing"
      ]
    },
    {
      "cell_type": "code",
      "metadata": {
        "id": "1pBYUmkTWXVK"
      },
      "source": [
        "train_dataset = pd.get_dummies(train_dataset, columns=[\"gender\",\"marital_status\",\"status\",\"salary\",\"department\"], drop_first=True)"
      ],
      "execution_count": null,
      "outputs": []
    },
    {
      "cell_type": "markdown",
      "metadata": {
        "id": "FWtUeTbIWXVK"
      },
      "source": [
        "#### dropping employee_id column"
      ]
    },
    {
      "cell_type": "code",
      "metadata": {
        "id": "h_bgjyPqWXVK"
      },
      "source": [
        "dropColumns = ['employee_id']\n",
        "train_dataset = train_dataset.drop(dropColumns,axis=1)"
      ],
      "execution_count": null,
      "outputs": []
    },
    {
      "cell_type": "code",
      "metadata": {
        "id": "XYgyMWUkWXVK"
      },
      "source": [
        "train_dataset.head()"
      ],
      "execution_count": null,
      "outputs": []
    },
    {
      "cell_type": "code",
      "metadata": {
        "id": "Bb0gCEDlWXVK"
      },
      "source": [
        "train_dataset.columns"
      ],
      "execution_count": null,
      "outputs": []
    },
    {
      "cell_type": "code",
      "metadata": {
        "id": "KxPsknIAWXVK"
      },
      "source": [
        "train_dataset= train_dataset.rename(columns={\"status_Left\": \"status\"}, errors=\"raise\")"
      ],
      "execution_count": null,
      "outputs": []
    },
    {
      "cell_type": "markdown",
      "metadata": {
        "id": "s6EVMmsXWXVK"
      },
      "source": [
        "### Finding the importance of the parameters"
      ]
    },
    {
      "cell_type": "code",
      "metadata": {
        "id": "aW_iSq5vWXVK"
      },
      "source": [
        "status = train_dataset.pop('status')\n"
      ],
      "execution_count": null,
      "outputs": []
    },
    {
      "cell_type": "code",
      "metadata": {
        "id": "dZIC7vTQWXVK"
      },
      "source": [
        "import statsmodels.api as sm\n",
        "logit_model=sm.Logit(status,train_dataset)\n",
        "result=logit_model.fit()\n",
        "print(result.summary2())\n"
      ],
      "execution_count": null,
      "outputs": []
    },
    {
      "cell_type": "markdown",
      "metadata": {
        "id": "RI9yOGovWXVL"
      },
      "source": [
        "**Observations**: satisfaction is the most effective parameter. Followed by filed_complaints, gender and salary"
      ]
    },
    {
      "cell_type": "code",
      "metadata": {
        "id": "pGA5SEFqWXVL"
      },
      "source": [
        "from statsmodels.stats.outliers_influence import variance_inflation_factor\n",
        "\n",
        "train_dataset.pop('age')\n",
        "vif_data= pd.DataFrame()\n",
        "\n",
        "\n",
        "vif_data['feature'] = train_dataset.columns\n",
        "vif_data[\"VIF\"]  = [variance_inflation_factor(train_dataset.values, i) for i in range(len(train_dataset.columns))]\n",
        "print(vif_data)"
      ],
      "execution_count": null,
      "outputs": []
    },
    {
      "cell_type": "markdown",
      "metadata": {
        "id": "YCTp9gqcWXVP"
      },
      "source": [
        "### Using StandardScaler to standardize the data"
      ]
    },
    {
      "cell_type": "code",
      "metadata": {
        "id": "dL3ddB23WXVP"
      },
      "source": [
        "from sklearn.preprocessing import StandardScaler\n",
        "sc = StandardScaler()\n",
        "\n",
        "sc.fit(train_dataset)                                                                                   # fit the data to Standardscaler\n",
        "train_dataset_scale = sc.transform(train_dataset)                                                               # transform the data\n",
        "\n",
        "print('After standardizing our features, the first 5 rows of our data now look like this:\\n')   # print the first 5 value after standardization\n",
        "print(pd.DataFrame(train_dataset_scale, columns=train_dataset.columns).head())                                  # Put it to dataframe                              \n",
        "print(type(train_dataset_scale))"
      ],
      "execution_count": null,
      "outputs": []
    },
    {
      "cell_type": "markdown",
      "metadata": {
        "id": "b6BQFtGsWXVQ"
      },
      "source": [
        "## Train-Test split"
      ]
    },
    {
      "cell_type": "code",
      "metadata": {
        "id": "_hviMfO4WXVQ"
      },
      "source": [
        "from sklearn.model_selection import train_test_split\n",
        "X_train, X_test, y_train, y_test = train_test_split(train_dataset_scale, status, test_size = 0.3, random_state = 42)"
      ],
      "execution_count": null,
      "outputs": []
    },
    {
      "cell_type": "code",
      "metadata": {
        "id": "QU0kbFeJWXVQ"
      },
      "source": [
        "print(X_train.shape)\n",
        "print(X_test.shape)\n",
        "print(y_train.shape)\n",
        "print(y_test.shape)"
      ],
      "execution_count": null,
      "outputs": []
    },
    {
      "cell_type": "markdown",
      "metadata": {
        "id": "Gfeo97OJWXVQ"
      },
      "source": [
        "## 6. User defined functions:\n",
        "\n",
        "#### Defining user defined functions to reuse them with each algorithm"
      ]
    },
    {
      "cell_type": "markdown",
      "metadata": {
        "id": "LusF8W8mWXVQ"
      },
      "source": [
        "<a id=section601></a>\n",
        "#### 6.1 User defined function to fit and predict the model"
      ]
    },
    {
      "cell_type": "code",
      "metadata": {
        "id": "BmaHHoUgWXVQ"
      },
      "source": [
        "#Function for prediction\n",
        "\n",
        "def get_predictions(clf, X_train, y_train, X_test, y_test):\n",
        "    # fit it to training data\n",
        "    clf.fit(X_train,y_train)\n",
        "    # predict using test data\n",
        "    y_pred = clf.predict(X_test)\n",
        "    # Compute predicted probabilities: y_pred_prob\n",
        "    y_pred_prob = clf.predict_proba(X_test)\n",
        "    \n",
        "   # print('train-set confusion matrix:\\n', confusion_matrix(y_test, y_pred)) \n",
        "    return y_pred, y_pred_prob"
      ],
      "execution_count": null,
      "outputs": []
    },
    {
      "cell_type": "markdown",
      "metadata": {
        "id": "m5zNcIGzWXVQ"
      },
      "source": [
        "<a id=section602></a>\n",
        "#### 6.2 User defined function to print the classifier score\n",
        "\n",
        "The function is returning accuracy_score as the goal of the analysis is just to predict the voice type and we are not interested in increasing precision or recall here. Also, since data is equally distributed, accuracy score works best and it is sufficient for us in the analysis. Though the function prints confusion matrix, recall score, precision score, f1 score, ROC AUC and also accuracy score, we are interested only in accuracy score for the project"
      ]
    },
    {
      "cell_type": "code",
      "metadata": {
        "id": "dE79DQlkWXVQ"
      },
      "source": [
        "def print_scores(y_test,y_pred,y_pred_prob):\n",
        "    print('test-set confusion matrix:\\n', confusion_matrix(y_test,y_pred)) \n",
        "    print(\"recall score: \", recall_score(y_test,y_pred))\n",
        "    print(\"precision score: \", precision_score(y_test,y_pred))\n",
        "    print(\"f1 score: \", f1_score(y_test,y_pred))\n",
        "    print(\"accuracy score: \", accuracy_score(y_test,y_pred))\n",
        "    print(\"ROC AUC: {}\".format(roc_auc_score(y_test, y_pred_prob[:,1])))\n",
        "    return  accuracy_score(y_test,y_pred)"
      ],
      "execution_count": null,
      "outputs": []
    },
    {
      "cell_type": "markdown",
      "metadata": {
        "id": "Oegt2L7HWXVQ"
      },
      "source": [
        "<a id=section7></a>\n",
        "## 7. Modelling and prediction"
      ]
    },
    {
      "cell_type": "markdown",
      "metadata": {
        "id": "FidegP-iWXVQ"
      },
      "source": [
        "Applying various models to see which one gives a better result. We are trying:\n",
        "1. Gaussian Naive Bayees\n",
        "2. K-Nearest Classifier\n",
        "3. Logistic regression\n",
        "4. LDA"
      ]
    },
    {
      "cell_type": "markdown",
      "metadata": {
        "id": "eYj5pSfMWXVQ"
      },
      "source": [
        "<a id=section701></a>\n",
        "## 7.1 Gaussian Naive Bayes"
      ]
    },
    {
      "cell_type": "markdown",
      "metadata": {
        "id": "csUJ0rtXWXVQ"
      },
      "source": [
        "A naive Bayes classifier uses probability theory to classify data. Naive Bayes classifier algorithms make use of Bayes' theorem. The key insight of Bayes' theorem is that the probability of an event can be adjusted as new data is introduced."
      ]
    },
    {
      "cell_type": "code",
      "metadata": {
        "id": "wvgtPafdWXVQ"
      },
      "source": [
        "y_pred_nb, y_pred_prob_nb = get_predictions(GaussianNB(), X_train, y_train, X_test, y_test)"
      ],
      "execution_count": null,
      "outputs": []
    },
    {
      "cell_type": "code",
      "metadata": {
        "id": "lHErjsRuWXVQ"
      },
      "source": [
        "print_scores(y_test,y_pred_nb,y_pred_prob_nb)"
      ],
      "execution_count": null,
      "outputs": []
    },
    {
      "cell_type": "markdown",
      "metadata": {
        "id": "lCmqruFHWXVR"
      },
      "source": [
        "<a id=section702></a>\n",
        "## 7.2 KNearest Neighbour Classifier"
      ]
    },
    {
      "cell_type": "markdown",
      "metadata": {
        "id": "i2QxiBS_WXVR"
      },
      "source": [
        "K-Nearest Neighbours is one of the most basic yet essential classification algorithms which belongs to the supervised learning domain. K-Nearest neighbour can be used as both regressor and for classification.\n",
        "\n",
        "When KNN is used for classification, the output can be calculated as the class with the highest frequency from the K-most similar instances. Each instance in essence votes for their class and the class with the most votes is taken as the prediction.\n",
        "\n",
        "it is a good idea to choose a K value with an odd number to avoid a tie. And the inverse, use an even number for K when you have an odd number of classes.\n",
        "\n",
        "KNN Algorithm is based on feature similarity: Choosing the right value of k is a process called parameter tuning, and is important for better accuracy. \n",
        "\n",
        "So in the below code We are checking the kNN for various value of K. K values range from 1 to 28 (28 being sqrt(792). Here 792 is the number of test data points."
      ]
    },
    {
      "cell_type": "markdown",
      "metadata": {
        "id": "Dm4QLIerWXVR"
      },
      "source": [
        "### **7.2.1 Hyperparameter Tuning: Finding Optimal K**\n",
        "\n",
        "- We **will** **iterate** our model **over** **some** **iterations**, finding optimal K value for clustering.\n",
        "\n",
        "- We **check** **inertia**, defined as the mean squared distance between each instance and its closest centroid. Logically, as per the definition **lower** the **inertia** **better** the **model**.\n",
        "\n",
        "- We will **use** **Elbow** **rule** in order to **find** the **optimal** **number** of **clusters**."
      ]
    },
    {
      "cell_type": "code",
      "metadata": {
        "id": "czOuUMqkWXVR"
      },
      "source": [
        "status.value_counts()"
      ],
      "execution_count": null,
      "outputs": []
    },
    {
      "cell_type": "code",
      "metadata": {
        "id": "-8Rki0MSWXVR"
      },
      "source": [
        "from sklearn.neighbors import KNeighborsClassifier\n",
        "from sklearn.model_selection import cross_val_score\n",
        "k_list = list(range(1,15,2))\n",
        "# creating list of cv scores\n",
        "cv_scores = []\n",
        "\n",
        "# perform 10-fold cross validation\n",
        "for k in k_list:\n",
        "    print(\"K=\",k)\n",
        "    knn = KNeighborsClassifier(n_neighbors=k)\n",
        "    y_pred_knn, y_pred_prob_knn = get_predictions(knn, X_train, y_train, X_test, y_test)\n",
        "    scores = print_scores(y_test,y_pred_knn,y_pred_prob_knn)\n",
        "    cv_scores.append(scores)\n",
        "print(cv_scores)\n",
        "#knn = KNeighborsClassifier(n_neighbors=7)\n",
        "#y_pred_knn, y_pred_prob_knn = get_predictions(knn, X_train, y_train, X_test, y_test)"
      ],
      "execution_count": null,
      "outputs": []
    },
    {
      "cell_type": "markdown",
      "metadata": {
        "id": "SiEJC11cWXVR"
      },
      "source": [
        "The accuracy_scores of different k values can be plotted to see which k value to chose"
      ]
    },
    {
      "cell_type": "code",
      "metadata": {
        "id": "xBhO0GRXWXVR"
      },
      "source": [
        "plt.figure()\n",
        "plt.figure(figsize=(15,10))\n",
        "plt.title('The optimal number of neighbors', fontsize=20, fontweight='bold')\n",
        "plt.xlabel('Number of Neighbors K', fontsize=15)\n",
        "plt.ylabel('Accuracy score', fontsize=15)\n",
        "sns.set_style(\"whitegrid\")\n",
        "plt.plot(k_list, cv_scores)\n",
        "\n",
        "plt.show()"
      ],
      "execution_count": null,
      "outputs": []
    },
    {
      "cell_type": "code",
      "metadata": {
        "scrolled": true,
        "id": "YqUQ1Bv5WXVR"
      },
      "source": [
        ""
      ],
      "execution_count": null,
      "outputs": []
    },
    {
      "cell_type": "markdown",
      "metadata": {
        "id": "rSw6lUv3WXVR"
      },
      "source": [
        "**Observations**: Accuracy score is highest for k=3. We will use that value for our model"
      ]
    },
    {
      "cell_type": "markdown",
      "metadata": {
        "id": "ixklV94qWXVR"
      },
      "source": [
        "<a id=section703></a>\n",
        "## 7.3 Using Logistic Regression"
      ]
    },
    {
      "cell_type": "markdown",
      "metadata": {
        "id": "o3Ainw2ZWXVR"
      },
      "source": [
        "Logistic regression is a supervised learning techinques which helps in classification problems.Logistic Regression is used when the dependent variable(target) is categorical. Sigmoid function or logistic function is used as hypothesis function for logistic regression."
      ]
    },
    {
      "cell_type": "code",
      "metadata": {
        "id": "r7GmT4P2WXVR"
      },
      "source": [
        "# let us check recall score for logistic regression\n",
        "y_pred_lr, y_pred_prob_lr = get_predictions(LogisticRegression(C = 0.01, penalty = 'l1',solver='liblinear')\n",
        "                                      , X_train, y_train, X_test, y_test)"
      ],
      "execution_count": null,
      "outputs": []
    },
    {
      "cell_type": "code",
      "metadata": {
        "id": "nuOcRc3kWXVR"
      },
      "source": [
        "print_scores(y_test,y_pred_lr,y_pred_prob_lr)"
      ],
      "execution_count": null,
      "outputs": []
    },
    {
      "cell_type": "markdown",
      "metadata": {
        "id": "ISdc9NrUWXVR"
      },
      "source": [
        "<a id=section704></a>\n",
        "## 7.4 Using LDA:"
      ]
    },
    {
      "cell_type": "markdown",
      "metadata": {
        "id": "rfVqfu94WXVR"
      },
      "source": [
        "Linear Discriminant Analysis is a __dimensionality reduction__ technique used as a __preprocessing step__ in Machine Learning and __pattern classification applications__.\n",
        "\n",
        "Linear Discriminant Analysis is a __supervised classification technique__ which takes labels into consideration."
      ]
    },
    {
      "cell_type": "code",
      "metadata": {
        "id": "BYR1__CxWXVR"
      },
      "source": [
        "# let us check recall score for logistic regression\n",
        "from sklearn.discriminant_analysis import LinearDiscriminantAnalysis as LDA\n",
        "lda = LDA(n_components = 1)\n",
        "y_pred_lda, y_pred_prob_lda = get_predictions(lda, X_train, y_train, X_test, y_test)"
      ],
      "execution_count": null,
      "outputs": []
    },
    {
      "cell_type": "code",
      "metadata": {
        "id": "wLstt5ALWXVR"
      },
      "source": [
        "print_scores(y_test,y_pred_lda,y_pred_prob_lda)"
      ],
      "execution_count": null,
      "outputs": []
    },
    {
      "cell_type": "code",
      "metadata": {
        "id": "2YPXocgTWXVR"
      },
      "source": [
        "<a id=section704></a>\n",
        "## 7.4 Create Boosting Classifiers"
      ],
      "execution_count": null,
      "outputs": []
    },
    {
      "cell_type": "code",
      "metadata": {
        "id": "BWQobdXJWXVR"
      },
      "source": [
        ""
      ],
      "execution_count": null,
      "outputs": []
    },
    {
      "cell_type": "code",
      "metadata": {
        "id": "yPx7Kk7tWXVR"
      },
      "source": [
        "from sklearn.ensemble import AdaBoostClassifier\n",
        "from sklearn.tree import DecisionTreeClassifier\n",
        "reg_ada = AdaBoostClassifier(DecisionTreeClassifier(max_depth=1))\n",
        "scores_ada = cross_val_score(reg_ada, X_train, y_train, cv=6)\n",
        "scores_ada.mean()"
      ],
      "execution_count": null,
      "outputs": []
    },
    {
      "cell_type": "code",
      "metadata": {
        "id": "UUES-Tt6WXVS"
      },
      "source": [
        "score = []\n",
        "for depth in [1,2,4,6,8,10] : \n",
        "    reg_ada = AdaBoostClassifier(DecisionTreeClassifier(max_depth=depth))\n",
        "    scores_ada = cross_val_score(reg_ada, X_train, y_train, cv=6)\n",
        "    score.append(scores_ada.mean())\n",
        "\n",
        "\n",
        "print(score)"
      ],
      "execution_count": null,
      "outputs": []
    },
    {
      "cell_type": "code",
      "metadata": {
        "id": "BHGDTnNjWXVS"
      },
      "source": [
        "**Observations** : And the maximal score is reached for a depth of 10 in this simple example, with an accuracy of 97.45%"
      ],
      "execution_count": null,
      "outputs": []
    },
    {
      "cell_type": "code",
      "metadata": {
        "id": "mdSHw27WWXVS"
      },
      "source": [
        "<a id=\"section7\"></a>\n",
        "## 7. Model Comparison"
      ],
      "execution_count": null,
      "outputs": []
    },
    {
      "cell_type": "code",
      "metadata": {
        "id": "jZInh-lkWXVS"
      },
      "source": [
        "| Algorithms                                                                                     | Accuracy Score                                                                               |\n",
        "| ------------------------------- |:-----------------------------------------------------------------------------------------:| \n",
        "| __Logistic Regression__ | __58.5%__ |\n",
        "| __Random Forest__ | __64.0%__ |\n",
        "| __Decision Tree Classifier__| __60.2%__| \n",
        "| __Bagging Classifier__ | __64.6%__ |\n",
        "| __Boosting Classifier__ | __62.8%__ |\n",
        "| __SVC__| __51.3%__| \n",
        "| __Voting Classifier__| __65.1%__| "
      ],
      "execution_count": null,
      "outputs": []
    }
  ]
}